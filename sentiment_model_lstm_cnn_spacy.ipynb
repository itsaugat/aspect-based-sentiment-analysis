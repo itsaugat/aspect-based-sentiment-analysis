{
 "cells": [
  {
   "cell_type": "code",
   "execution_count": 8,
   "metadata": {},
   "outputs": [],
   "source": [
    "import numpy as np \n",
    "import pandas as pd \n",
    "\n",
    "from sklearn.feature_extraction.text import CountVectorizer\n",
    "from keras.preprocessing.text import Tokenizer\n",
    "from keras.preprocessing.sequence import pad_sequences\n",
    "from keras.models import Sequential\n",
    "from keras.layers import Dense, Embedding, LSTM, SpatialDropout1D, Conv1D,MaxPooling1D, Dropout, Flatten\n",
    "from sklearn.model_selection import train_test_split\n",
    "from keras.utils.np_utils import to_categorical\n",
    "import re"
   ]
  },
  {
   "cell_type": "code",
   "execution_count": 2,
   "metadata": {},
   "outputs": [],
   "source": [
    "dataset = pd.read_csv('convertcsv.csv')\n",
    "data = dataset[['text','aspectCategories/aspectCategory/0/_polarity']]\n",
    "#data = dataset.rename(index=str, columns={ 0: \"text\", 6: \"sentiment\"})\n",
    "newdata = data.dropna()\n",
    "newdata.isnull().sum()\n",
    "newdata = newdata.rename(columns={'aspectCategories/aspectCategory/0/_polarity': 'sentiment'})"
   ]
  },
  {
   "cell_type": "code",
   "execution_count": 3,
   "metadata": {},
   "outputs": [
    {
     "name": "stdout",
     "output_type": "stream",
     "text": [
      "3484\n",
      "1316\n",
      "954\n",
      "334\n"
     ]
    },
    {
     "data": {
      "text/html": [
       "<div>\n",
       "<style scoped>\n",
       "    .dataframe tbody tr th:only-of-type {\n",
       "        vertical-align: middle;\n",
       "    }\n",
       "\n",
       "    .dataframe tbody tr th {\n",
       "        vertical-align: top;\n",
       "    }\n",
       "\n",
       "    .dataframe thead th {\n",
       "        text-align: right;\n",
       "    }\n",
       "</style>\n",
       "<table border=\"1\" class=\"dataframe\">\n",
       "  <thead>\n",
       "    <tr style=\"text-align: right;\">\n",
       "      <th></th>\n",
       "      <th>text</th>\n",
       "      <th>sentiment</th>\n",
       "    </tr>\n",
       "  </thead>\n",
       "  <tbody>\n",
       "    <tr>\n",
       "      <th>0</th>\n",
       "      <td>but the staff was so horrible to us.</td>\n",
       "      <td>negative</td>\n",
       "    </tr>\n",
       "    <tr>\n",
       "      <th>1</th>\n",
       "      <td>to be completely fair, the only redeeming fact...</td>\n",
       "      <td>positive</td>\n",
       "    </tr>\n",
       "    <tr>\n",
       "      <th>2</th>\n",
       "      <td>the food is uniformly exceptional, with a very...</td>\n",
       "      <td>positive</td>\n",
       "    </tr>\n",
       "    <tr>\n",
       "      <th>3</th>\n",
       "      <td>where gabriela personaly greets you and recomm...</td>\n",
       "      <td>positive</td>\n",
       "    </tr>\n",
       "    <tr>\n",
       "      <th>4</th>\n",
       "      <td>for those that go once and don't enjoy it, all...</td>\n",
       "      <td>positive</td>\n",
       "    </tr>\n",
       "  </tbody>\n",
       "</table>\n",
       "</div>"
      ],
      "text/plain": [
       "                                                text sentiment\n",
       "0               but the staff was so horrible to us.  negative\n",
       "1  to be completely fair, the only redeeming fact...  positive\n",
       "2  the food is uniformly exceptional, with a very...  positive\n",
       "3  where gabriela personaly greets you and recomm...  positive\n",
       "4  for those that go once and don't enjoy it, all...  positive"
      ]
     },
     "execution_count": 3,
     "metadata": {},
     "output_type": "execute_result"
    }
   ],
   "source": [
    "newdata['text'] = newdata['text'].apply(lambda x: x.lower())\n",
    "print(newdata[ newdata['sentiment'] == 'positive'].size)\n",
    "print(newdata[ newdata['sentiment'] == 'negative'].size)\n",
    "print(newdata[ newdata['sentiment'] == 'neutral'].size)\n",
    "print(newdata[ newdata['sentiment'] == 'conflict'].size)\n",
    "newdata = newdata[newdata.sentiment != \"conflict\"]\n",
    "newdata = newdata[newdata.sentiment != \"neutral\"]\n",
    "newdata.head(5)"
   ]
  },
  {
   "cell_type": "code",
   "execution_count": 4,
   "metadata": {},
   "outputs": [
    {
     "name": "stdout",
     "output_type": "stream",
     "text": [
      "2716\n",
      "1400\n",
      "1316\n"
     ]
    }
   ],
   "source": [
    "#Make number of classes balanced \n",
    "num_of_categories = 700\n",
    "shuffled = newdata.reindex(np.random.permutation(newdata.index))\n",
    "po = shuffled[shuffled['sentiment'] == 'positive'][:num_of_categories]\n",
    "ng = shuffled[shuffled['sentiment'] == 'negative'][:num_of_categories]\n",
    "\n",
    "concated = pd.concat([po,ng], ignore_index=True)\n",
    "#Shuffle the dataset\n",
    "concated = concated.reindex(np.random.permutation(concated.index))\n",
    "print(concated.size)\n",
    "\n",
    "print(concated[ concated['sentiment'] == 'positive'].size)\n",
    "print(concated[ concated['sentiment'] == 'negative'].size)\n"
   ]
  },
  {
   "cell_type": "code",
   "execution_count": 5,
   "metadata": {},
   "outputs": [
    {
     "data": {
      "text/html": [
       "<div>\n",
       "<style scoped>\n",
       "    .dataframe tbody tr th:only-of-type {\n",
       "        vertical-align: middle;\n",
       "    }\n",
       "\n",
       "    .dataframe tbody tr th {\n",
       "        vertical-align: top;\n",
       "    }\n",
       "\n",
       "    .dataframe thead th {\n",
       "        text-align: right;\n",
       "    }\n",
       "</style>\n",
       "<table border=\"1\" class=\"dataframe\">\n",
       "  <thead>\n",
       "    <tr style=\"text-align: right;\">\n",
       "      <th></th>\n",
       "      <th>text</th>\n",
       "      <th>sentiment</th>\n",
       "      <th>sentiment_terms</th>\n",
       "    </tr>\n",
       "  </thead>\n",
       "  <tbody>\n",
       "    <tr>\n",
       "      <th>383</th>\n",
       "      <td>would recommend - perfect for those looking fo...</td>\n",
       "      <td>positive</td>\n",
       "      <td>recommend perfect look close grand</td>\n",
       "    </tr>\n",
       "    <tr>\n",
       "      <th>28</th>\n",
       "      <td>if it isn't for the food (a+++), it must be th...</td>\n",
       "      <td>positive</td>\n",
       "      <td></td>\n",
       "    </tr>\n",
       "    <tr>\n",
       "      <th>807</th>\n",
       "      <td>our server checked on us maybe twice during th...</td>\n",
       "      <td>negative</td>\n",
       "      <td>check entire</td>\n",
       "    </tr>\n",
       "    <tr>\n",
       "      <th>670</th>\n",
       "      <td>i liked the beer selection!</td>\n",
       "      <td>positive</td>\n",
       "      <td>like</td>\n",
       "    </tr>\n",
       "    <tr>\n",
       "      <th>909</th>\n",
       "      <td>the lobster sandwich is $24 and although it wa...</td>\n",
       "      <td>negative</td>\n",
       "      <td>good warrant</td>\n",
       "    </tr>\n",
       "    <tr>\n",
       "      <th>1309</th>\n",
       "      <td>the service was bad, the food took to forever ...</td>\n",
       "      <td>negative</td>\n",
       "      <td>bad take come sit upper</td>\n",
       "    </tr>\n",
       "    <tr>\n",
       "      <th>671</th>\n",
       "      <td>all in all a wonderful experience, can't wait ...</td>\n",
       "      <td>positive</td>\n",
       "      <td>wonderful wait come</td>\n",
       "    </tr>\n",
       "    <tr>\n",
       "      <th>333</th>\n",
       "      <td>i can't wait to go back.</td>\n",
       "      <td>positive</td>\n",
       "      <td>wait</td>\n",
       "    </tr>\n",
       "    <tr>\n",
       "      <th>1356</th>\n",
       "      <td>the hostess is rude to the point of being offe...</td>\n",
       "      <td>negative</td>\n",
       "      <td>rude offensive</td>\n",
       "    </tr>\n",
       "    <tr>\n",
       "      <th>766</th>\n",
       "      <td>i ordered the crab cocktail and it was soaked ...</td>\n",
       "      <td>negative</td>\n",
       "      <td>order soak taste</td>\n",
       "    </tr>\n",
       "  </tbody>\n",
       "</table>\n",
       "</div>"
      ],
      "text/plain": [
       "                                                   text sentiment  \\\n",
       "383   would recommend - perfect for those looking fo...  positive   \n",
       "28    if it isn't for the food (a+++), it must be th...  positive   \n",
       "807   our server checked on us maybe twice during th...  negative   \n",
       "670                         i liked the beer selection!  positive   \n",
       "909   the lobster sandwich is $24 and although it wa...  negative   \n",
       "1309  the service was bad, the food took to forever ...  negative   \n",
       "671   all in all a wonderful experience, can't wait ...  positive   \n",
       "333                            i can't wait to go back.  positive   \n",
       "1356  the hostess is rude to the point of being offe...  negative   \n",
       "766   i ordered the crab cocktail and it was soaked ...  negative   \n",
       "\n",
       "                         sentiment_terms  \n",
       "383   recommend perfect look close grand  \n",
       "28                                        \n",
       "807                         check entire  \n",
       "670                                 like  \n",
       "909                         good warrant  \n",
       "1309             bad take come sit upper  \n",
       "671                  wonderful wait come  \n",
       "333                                 wait  \n",
       "1356                      rude offensive  \n",
       "766                     order soak taste  "
      ]
     },
     "execution_count": 5,
     "metadata": {},
     "output_type": "execute_result"
    }
   ],
   "source": [
    "import spacy\n",
    "nlp = spacy.load('en')\n",
    "\n",
    "sentiment_terms = []\n",
    "for review in nlp.pipe(concated['text']):\n",
    "        if review.is_parsed:\n",
    "            sentiment_terms.append(' '.join([token.lemma_ for token in review if (not token.is_stop and not token.is_punct and (token.pos_ == \"ADJ\" or token.pos_ == \"VERB\"))]))\n",
    "        else:\n",
    "            sentiment_terms.append('')  \n",
    "concated['sentiment_terms'] = sentiment_terms\n",
    "concated.head(10)"
   ]
  },
  {
   "cell_type": "code",
   "execution_count": 6,
   "metadata": {},
   "outputs": [],
   "source": [
    "max_fatures = 6000\n",
    "MAX_SEQUENCE_LENGTH = 30\n",
    "tokenizer = Tokenizer(num_words=max_fatures, split=' ')\n",
    "tokenizer.fit_on_texts(concated['sentiment_terms'].values)\n",
    "X = tokenizer.texts_to_sequences(concated['sentiment_terms'].values)\n",
    "X = pad_sequences(X, maxlen=MAX_SEQUENCE_LENGTH)\n",
    "\n",
    "import pickle\n",
    "\n",
    "# saving\n",
    "with open('review_token_cnn_lstm.pickle', 'wb') as handle:\n",
    "    pickle.dump(tokenizer, handle, protocol=pickle.HIGHEST_PROTOCOL)"
   ]
  },
  {
   "cell_type": "code",
   "execution_count": 9,
   "metadata": {},
   "outputs": [
    {
     "name": "stdout",
     "output_type": "stream",
     "text": [
      "_________________________________________________________________\n",
      "Layer (type)                 Output Shape              Param #   \n",
      "=================================================================\n",
      "embedding_2 (Embedding)      (None, 30, 128)           768000    \n",
      "_________________________________________________________________\n",
      "dropout_2 (Dropout)          (None, 30, 128)           0         \n",
      "_________________________________________________________________\n",
      "conv1d_2 (Conv1D)            (None, 26, 128)           82048     \n",
      "_________________________________________________________________\n",
      "max_pooling1d_1 (MaxPooling1 (None, 6, 128)            0         \n",
      "_________________________________________________________________\n",
      "lstm_1 (LSTM)                (None, 100)               91600     \n",
      "_________________________________________________________________\n",
      "dense_1 (Dense)              (None, 10)                1010      \n",
      "_________________________________________________________________\n",
      "dropout_3 (Dropout)          (None, 10)                0         \n",
      "_________________________________________________________________\n",
      "dense_2 (Dense)              (None, 2)                 22        \n",
      "=================================================================\n",
      "Total params: 942,680\n",
      "Trainable params: 942,680\n",
      "Non-trainable params: 0\n",
      "_________________________________________________________________\n"
     ]
    }
   ],
   "source": [
    "embedding_dim = 128\n",
    "\n",
    "model = Sequential()\n",
    "model.add(Embedding(max_fatures, embedding_dim, input_length = X.shape[1]))\n",
    "model.add(Dropout(0.2))\n",
    "model.add(Conv1D(128, 5, activation='relu'))\n",
    "model.add(MaxPooling1D(pool_size=4))\n",
    "model.add(LSTM(100, dropout=0.2, recurrent_dropout=0.2))\n",
    "model.add(Dense(10, activation='relu'))\n",
    "model.add(Dropout(0.2))\n",
    "model.add(Dense(2, activation='sigmoid'))\n",
    "model.compile(optimizer='adam',\n",
    "              loss='binary_crossentropy',\n",
    "              metrics=['accuracy'])\n",
    "model.summary()"
   ]
  },
  {
   "cell_type": "code",
   "execution_count": 10,
   "metadata": {},
   "outputs": [
    {
     "name": "stdout",
     "output_type": "stream",
     "text": [
      "[[0 1]\n",
      " [0 1]\n",
      " [1 0]\n",
      " ...\n",
      " [1 0]\n",
      " [1 0]\n",
      " [0 1]]\n",
      "(1086, 30) (1086, 2)\n",
      "(272, 30) (272, 2)\n"
     ]
    }
   ],
   "source": [
    "Y = pd.get_dummies(concated['sentiment']).values\n",
    "print(Y)\n",
    "X_train, X_test, Y_train, Y_test = train_test_split(X,Y, test_size = 0.2, random_state = 42)\n",
    "print(X_train.shape,Y_train.shape)\n",
    "print(X_test.shape,Y_test.shape)"
   ]
  },
  {
   "cell_type": "code",
   "execution_count": 11,
   "metadata": {},
   "outputs": [
    {
     "name": "stdout",
     "output_type": "stream",
     "text": [
      "Train on 1086 samples, validate on 272 samples\n",
      "Epoch 1/10\n",
      " - 4s - loss: 0.6944 - acc: 0.5170 - val_loss: 0.6955 - val_acc: 0.4632\n",
      "Epoch 2/10\n",
      " - 1s - loss: 0.6937 - acc: 0.5000 - val_loss: 0.6936 - val_acc: 0.4632\n",
      "Epoch 3/10\n",
      " - 1s - loss: 0.6924 - acc: 0.5221 - val_loss: 0.6932 - val_acc: 0.4632\n",
      "Epoch 4/10\n",
      " - 1s - loss: 0.6852 - acc: 0.5447 - val_loss: 0.6901 - val_acc: 0.4761\n",
      "Epoch 5/10\n",
      " - 1s - loss: 0.6193 - acc: 0.6400 - val_loss: 0.7070 - val_acc: 0.5882\n",
      "Epoch 6/10\n",
      " - 1s - loss: 0.5538 - acc: 0.6708 - val_loss: 0.7497 - val_acc: 0.5772\n",
      "Epoch 7/10\n",
      " - 1s - loss: 0.5154 - acc: 0.6998 - val_loss: 0.8186 - val_acc: 0.5349\n",
      "Epoch 8/10\n",
      " - 1s - loss: 0.4942 - acc: 0.6828 - val_loss: 0.7937 - val_acc: 0.5735\n",
      "Epoch 9/10\n",
      " - 1s - loss: 0.4623 - acc: 0.7003 - val_loss: 0.8990 - val_acc: 0.5699\n",
      "Epoch 10/10\n",
      " - 1s - loss: 0.4541 - acc: 0.7017 - val_loss: 0.9692 - val_acc: 0.5827\n"
     ]
    }
   ],
   "source": [
    "batch_size = 32\n",
    "sentiment_model = model.fit(X_train, Y_train, validation_data=(X_test, Y_test),epochs = 10, batch_size=batch_size, verbose = 2)"
   ]
  },
  {
   "cell_type": "code",
   "execution_count": 13,
   "metadata": {},
   "outputs": [
    {
     "data": {
      "text/plain": [
       "<Figure size 432x288 with 0 Axes>"
      ]
     },
     "execution_count": 13,
     "metadata": {},
     "output_type": "execute_result"
    },
    {
     "data": {
      "image/png": "[encoded data removed]",
      "text/plain": [
       "<Figure size 432x288 with 1 Axes>"
      ]
     },
     "metadata": {
      "needs_background": "light"
     },
     "output_type": "display_data"
    },
    {
     "data": {
      "text/plain": [
       "<Figure size 432x288 with 0 Axes>"
      ]
     },
     "metadata": {},
     "output_type": "display_data"
    }
   ],
   "source": [
    "import matplotlib.pyplot as plt\n",
    "acc = sentiment_model.history['acc']\n",
    "val_acc = sentiment_model.history['val_acc']\n",
    "epochs = range(1, len(acc) + 1)\n",
    "\n",
    "plt.plot(epochs, acc, color = 'red', label='Training acc')\n",
    "plt.plot(epochs, val_acc, color = 'blue', label='Validation acc')\n",
    "plt.xlabel('Epochs')\n",
    "plt.ylabel('Accuracy')\n",
    "plt.legend(['Training Accuracy','Validation Accuracy'])\n",
    "\n",
    "plt.figure()"
   ]
  },
  {
   "cell_type": "code",
   "execution_count": 14,
   "metadata": {},
   "outputs": [
    {
     "name": "stdout",
     "output_type": "stream",
     "text": [
      "[[ 38  88]\n",
      " [ 26 120]]\n",
      "0.5617525549032398\n",
      "0.5853365384615384\n",
      "0.5733021050605066\n"
     ]
    }
   ],
   "source": [
    "y_predict = model.predict(X_test)\n",
    "y_test_non_category = [ np.argmax(t) for t in Y_test ]\n",
    "y_predict_non_category = [ np.argmax(t) for t in y_predict ]\n",
    "\n",
    "\n",
    "from sklearn.metrics import confusion_matrix\n",
    "conf_mat = confusion_matrix(y_test_non_category, y_predict_non_category)\n",
    "print(conf_mat)\n",
    "\n",
    "true_pos = np.diag(conf_mat) \n",
    "precision = true_pos / np.sum(conf_mat, axis=0)\n",
    "recall = true_pos / np.sum(conf_mat, axis=1)\n",
    "mean_recall = np.mean(recall)\n",
    "mean_precision = np.mean(precision)\n",
    "mean_f1 = 2 * (mean_precision * mean_recall) / (mean_precision + mean_recall)\n",
    "print(mean_recall)\n",
    "print(mean_precision)\n",
    "print(mean_f1)"
   ]
  },
  {
   "cell_type": "code",
   "execution_count": 15,
   "metadata": {},
   "outputs": [
    {
     "name": "stdout",
     "output_type": "stream",
     "text": [
      "['need aggressive explore new']\n",
      "[0.0791458  0.95102704]\n",
      "0.95102704\n",
      "positive\n"
     ]
    }
   ],
   "source": [
    "new_review = nlp(\"Need to be more aggressive in exploring newer avenues\")\n",
    "\n",
    "new_review_sentiment_terms = []\n",
    "new_review_sentiment_terms.append(' '.join([token.lemma_ for token in new_review if (not token.is_stop and not token.is_punct and (token.pos_ == \"ADJ\" or token.pos_ == \"VERB\"))]))\n",
    "\n",
    "print(new_review_sentiment_terms)\n",
    "#vectorizing the tweet by the pre-fitted tokenizer instance\n",
    "review = tokenizer.texts_to_sequences(new_review_sentiment_terms)\n",
    "#padding the tweet to have exactly the same shape as `embedding_2` input\n",
    "review = pad_sequences(review, maxlen=30, dtype='int32', value=0)\n",
    "#print(review)\n",
    "sentiment = model.predict(review,batch_size=1,verbose = 2)[0]\n",
    "print(sentiment)\n",
    "score = np.max(sentiment)\n",
    "print(score)\n",
    "position = np.argmax(sentiment)\n",
    "if position == 0 and score > 0.55:\n",
    "    print('negative')\n",
    "elif position == 1 and score > 0.55:\n",
    "    print('positive')\n",
    "elif position == 0 or position == 1 and score >= 0.45 and score <=0.55:\n",
    "    print('neutral')"
   ]
  },
  {
   "cell_type": "code",
   "execution_count": null,
   "metadata": {},
   "outputs": [],
   "source": []
  }
 ],
 "metadata": {
  "kernelspec": {
   "display_name": "Python 3",
   "language": "python",
   "name": "python3"
  },
  "language_info": {
   "codemirror_mode": {
    "name": "ipython",
    "version": 3
   },
   "file_extension": ".py",
   "mimetype": "text/x-python",
   "name": "python",
   "nbconvert_exporter": "python",
   "pygments_lexer": "ipython3",
   "version": "3.6.7"
  }
 },
 "nbformat": 4,
 "nbformat_minor": 2
}

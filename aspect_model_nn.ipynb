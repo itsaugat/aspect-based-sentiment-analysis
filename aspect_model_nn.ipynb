{
 "cells": [
  {
   "cell_type": "markdown",
   "metadata": {},
   "source": [
    "Loading the dataset\n"
   ]
  },
  {
   "cell_type": "code",
   "execution_count": 1,
   "metadata": {},
   "outputs": [
    {
     "data": {
      "text/html": [
       "<div>\n",
       "<style scoped>\n",
       "    .dataframe tbody tr th:only-of-type {\n",
       "        vertical-align: middle;\n",
       "    }\n",
       "\n",
       "    .dataframe tbody tr th {\n",
       "        vertical-align: top;\n",
       "    }\n",
       "\n",
       "    .dataframe thead th {\n",
       "        text-align: right;\n",
       "    }\n",
       "</style>\n",
       "<table border=\"1\" class=\"dataframe\">\n",
       "  <thead>\n",
       "    <tr style=\"text-align: right;\">\n",
       "      <th></th>\n",
       "      <th>review</th>\n",
       "      <th>aspect_category</th>\n",
       "      <th>sentiment</th>\n",
       "    </tr>\n",
       "  </thead>\n",
       "  <tbody>\n",
       "    <tr>\n",
       "      <th>452</th>\n",
       "      <td>Safety team is a joke and gets people in troub...</td>\n",
       "      <td>leadership</td>\n",
       "      <td>Neutral</td>\n",
       "    </tr>\n",
       "    <tr>\n",
       "      <th>387</th>\n",
       "      <td>Depends on the site but my managers are great</td>\n",
       "      <td>leadership</td>\n",
       "      <td>Positive</td>\n",
       "    </tr>\n",
       "    <tr>\n",
       "      <th>242</th>\n",
       "      <td>though it depends heavily on team</td>\n",
       "      <td>leadership</td>\n",
       "      <td>Neutral</td>\n",
       "    </tr>\n",
       "    <tr>\n",
       "      <th>438</th>\n",
       "      <td>You should also stop gossiping about your team...</td>\n",
       "      <td>leadership</td>\n",
       "      <td>Negative</td>\n",
       "    </tr>\n",
       "    <tr>\n",
       "      <th>99</th>\n",
       "      <td>Culture of respect and transparency.</td>\n",
       "      <td>environment</td>\n",
       "      <td>Positive</td>\n",
       "    </tr>\n",
       "  </tbody>\n",
       "</table>\n",
       "</div>"
      ],
      "text/plain": [
       "                                                review aspect_category  \\\n",
       "452  Safety team is a joke and gets people in troub...     leadership    \n",
       "387      Depends on the site but my managers are great     leadership    \n",
       "242                  though it depends heavily on team     leadership    \n",
       "438  You should also stop gossiping about your team...     leadership    \n",
       "99               Culture of respect and transparency.      environment   \n",
       "\n",
       "    sentiment  \n",
       "452   Neutral  \n",
       "387  Positive  \n",
       "242   Neutral  \n",
       "438  Negative  \n",
       "99   Positive  "
      ]
     },
     "execution_count": 1,
     "metadata": {},
     "output_type": "execute_result"
    }
   ],
   "source": [
    "import pandas as pd\n",
    "from sklearn.utils import shuffle\n",
    "\n",
    "dataset = pd.read_csv('train.csv', encoding='ISO-8859-1', header= None)\n",
    "dataset = dataset.rename(index=str, columns={ 0: \"review\", 1: \"aspect_category\", 2: \"sentiment\"})\n",
    "dataset = shuffle(dataset)\n",
    "dataset.head(5)"
   ]
  },
  {
   "cell_type": "markdown",
   "metadata": {},
   "source": [
    "Extract Aspect Terms Using spacy NLP library"
   ]
  },
  {
   "cell_type": "code",
   "execution_count": 2,
   "metadata": {},
   "outputs": [
    {
     "data": {
      "text/html": [
       "<div>\n",
       "<style scoped>\n",
       "    .dataframe tbody tr th:only-of-type {\n",
       "        vertical-align: middle;\n",
       "    }\n",
       "\n",
       "    .dataframe tbody tr th {\n",
       "        vertical-align: top;\n",
       "    }\n",
       "\n",
       "    .dataframe thead th {\n",
       "        text-align: right;\n",
       "    }\n",
       "</style>\n",
       "<table border=\"1\" class=\"dataframe\">\n",
       "  <thead>\n",
       "    <tr style=\"text-align: right;\">\n",
       "      <th></th>\n",
       "      <th>review</th>\n",
       "      <th>aspect_category</th>\n",
       "      <th>sentiment</th>\n",
       "      <th>aspect_terms</th>\n",
       "    </tr>\n",
       "  </thead>\n",
       "  <tbody>\n",
       "    <tr>\n",
       "      <th>452</th>\n",
       "      <td>safety team is a joke and gets people in troub...</td>\n",
       "      <td>leadership</td>\n",
       "      <td>Neutral</td>\n",
       "      <td>team joke people trouble</td>\n",
       "    </tr>\n",
       "    <tr>\n",
       "      <th>387</th>\n",
       "      <td>depends on the site but my managers are great</td>\n",
       "      <td>leadership</td>\n",
       "      <td>Positive</td>\n",
       "      <td>site managers</td>\n",
       "    </tr>\n",
       "    <tr>\n",
       "      <th>242</th>\n",
       "      <td>though it depends heavily on team</td>\n",
       "      <td>leadership</td>\n",
       "      <td>Neutral</td>\n",
       "      <td>team</td>\n",
       "    </tr>\n",
       "    <tr>\n",
       "      <th>438</th>\n",
       "      <td>you should also stop gossiping about your team...</td>\n",
       "      <td>leadership</td>\n",
       "      <td>Negative</td>\n",
       "      <td>members</td>\n",
       "    </tr>\n",
       "    <tr>\n",
       "      <th>99</th>\n",
       "      <td>culture of respect and transparency.</td>\n",
       "      <td>environment</td>\n",
       "      <td>Positive</td>\n",
       "      <td>culture respect transparency</td>\n",
       "    </tr>\n",
       "    <tr>\n",
       "      <th>124</th>\n",
       "      <td>as long as you demand the best from yourself y...</td>\n",
       "      <td>environment</td>\n",
       "      <td>Positive</td>\n",
       "      <td></td>\n",
       "    </tr>\n",
       "    <tr>\n",
       "      <th>80</th>\n",
       "      <td>great place to work.</td>\n",
       "      <td>environment</td>\n",
       "      <td>Positive</td>\n",
       "      <td>place</td>\n",
       "    </tr>\n",
       "    <tr>\n",
       "      <th>53</th>\n",
       "      <td>food, cheap massages, great gyms, offsites, de...</td>\n",
       "      <td>environment</td>\n",
       "      <td>Positive</td>\n",
       "      <td>food massages gyms offsites</td>\n",
       "    </tr>\n",
       "    <tr>\n",
       "      <th>150</th>\n",
       "      <td>raises benefits and the people</td>\n",
       "      <td>environment</td>\n",
       "      <td>Positive</td>\n",
       "      <td>benefits people</td>\n",
       "    </tr>\n",
       "    <tr>\n",
       "      <th>236</th>\n",
       "      <td>everyone is really smart</td>\n",
       "      <td>leadership</td>\n",
       "      <td>Positive</td>\n",
       "      <td>everyone</td>\n",
       "    </tr>\n",
       "  </tbody>\n",
       "</table>\n",
       "</div>"
      ],
      "text/plain": [
       "                                                review aspect_category  \\\n",
       "452  safety team is a joke and gets people in troub...     leadership    \n",
       "387      depends on the site but my managers are great     leadership    \n",
       "242                  though it depends heavily on team     leadership    \n",
       "438  you should also stop gossiping about your team...     leadership    \n",
       "99               culture of respect and transparency.      environment   \n",
       "124  as long as you demand the best from yourself y...     environment   \n",
       "80                                great place to work.     environment   \n",
       "53   food, cheap massages, great gyms, offsites, de...     environment   \n",
       "150                     raises benefits and the people     environment   \n",
       "236                           everyone is really smart     leadership    \n",
       "\n",
       "    sentiment                  aspect_terms  \n",
       "452   Neutral      team joke people trouble  \n",
       "387  Positive                 site managers  \n",
       "242   Neutral                          team  \n",
       "438  Negative                       members  \n",
       "99   Positive  culture respect transparency  \n",
       "124  Positive                                \n",
       "80   Positive                         place  \n",
       "53   Positive   food massages gyms offsites  \n",
       "150  Positive               benefits people  \n",
       "236  Positive                      everyone  "
      ]
     },
     "execution_count": 2,
     "metadata": {},
     "output_type": "execute_result"
    }
   ],
   "source": [
    "import spacy\n",
    "nlp = spacy.load('en')\n",
    "\n",
    "dataset.review = dataset.review.str.lower()\n",
    "\n",
    "aspect_terms = []\n",
    "for review in nlp.pipe(dataset.review):\n",
    "    chunks = [(chunk.root.text) for chunk in review.noun_chunks if chunk.root.pos_ == 'NOUN']\n",
    "    aspect_terms.append(' '.join(chunks))\n",
    "dataset['aspect_terms'] = aspect_terms\n",
    "dataset.head(10)"
   ]
  },
  {
   "cell_type": "markdown",
   "metadata": {
    "collapsed": true
   },
   "source": [
    "Building the Aspect Categories Model using NN and Keras\n"
   ]
  },
  {
   "cell_type": "code",
   "execution_count": 3,
   "metadata": {},
   "outputs": [
    {
     "name": "stderr",
     "output_type": "stream",
     "text": [
      "Using TensorFlow backend.\n"
     ]
    }
   ],
   "source": [
    "from keras.models import load_model\n",
    "from keras.models import Sequential\n",
    "from keras.layers import Dense, Activation\n",
    "\n",
    "\n",
    "aspect_categories_model = Sequential()\n",
    "aspect_categories_model.add(Dense(512, input_shape=(6000,), activation='relu'))\n",
    "aspect_categories_model.add(Dense(3, activation='softmax'))\n",
    "aspect_categories_model.compile(loss='categorical_crossentropy', optimizer='adam', metrics=['accuracy'])"
   ]
  },
  {
   "cell_type": "markdown",
   "metadata": {},
   "source": [
    "Perform Bag of Words (BoW) Word Embedding to encode aspect terms as vectors in order to feed to CNN"
   ]
  },
  {
   "cell_type": "code",
   "execution_count": 4,
   "metadata": {},
   "outputs": [],
   "source": [
    "from keras.preprocessing.text import Tokenizer\n",
    "\n",
    "vocab_size = 6000 # We set a maximum size for the vocabulary\n",
    "tokenizer = Tokenizer(num_words=vocab_size)\n",
    "tokenizer.fit_on_texts(dataset.review)\n",
    "aspect_tokenized = pd.DataFrame(tokenizer.texts_to_matrix(dataset.aspect_terms))"
   ]
  },
  {
   "cell_type": "markdown",
   "metadata": {},
   "source": [
    "Encoding the aspect_category to dummy variable using Sklearn"
   ]
  },
  {
   "cell_type": "code",
   "execution_count": 5,
   "metadata": {},
   "outputs": [],
   "source": [
    "from sklearn.preprocessing import LabelEncoder\n",
    "from keras.utils import to_categorical\n",
    "from sklearn.model_selection import train_test_split\n",
    "\n",
    "label_encoder = LabelEncoder()\n",
    "integer_category = label_encoder.fit_transform(dataset.aspect_category)\n",
    "dummy_category = to_categorical(integer_category)\n",
    "X_train, X_test, Y_train, Y_test = train_test_split(aspect_tokenized,dummy_category, test_size = 0.2, random_state = 42)"
   ]
  },
  {
   "cell_type": "markdown",
   "metadata": {},
   "source": [
    "Fitting and Training the Model"
   ]
  },
  {
   "cell_type": "code",
   "execution_count": 6,
   "metadata": {},
   "outputs": [
    {
     "name": "stdout",
     "output_type": "stream",
     "text": [
      "Train on 527 samples, validate on 132 samples\n",
      "Epoch 1/10\n",
      " - 2s - loss: 1.0722 - acc: 0.5161 - val_loss: 1.0326 - val_acc: 0.6136\n",
      "Epoch 2/10\n",
      " - 1s - loss: 0.9542 - acc: 0.7989 - val_loss: 0.9422 - val_acc: 0.6667\n",
      "Epoch 3/10\n",
      " - 1s - loss: 0.8029 - acc: 0.8520 - val_loss: 0.8357 - val_acc: 0.6742\n",
      "Epoch 4/10\n",
      " - 1s - loss: 0.6350 - acc: 0.8558 - val_loss: 0.7637 - val_acc: 0.6970\n",
      "Epoch 5/10\n",
      " - 1s - loss: 0.5087 - acc: 0.8539 - val_loss: 0.7383 - val_acc: 0.6742\n",
      "Epoch 6/10\n",
      " - 1s - loss: 0.4205 - acc: 0.8748 - val_loss: 0.7438 - val_acc: 0.6515\n",
      "Epoch 7/10\n",
      " - 1s - loss: 0.3610 - acc: 0.8843 - val_loss: 0.7616 - val_acc: 0.6667\n",
      "Epoch 8/10\n",
      " - 1s - loss: 0.3216 - acc: 0.8786 - val_loss: 0.7812 - val_acc: 0.6894\n",
      "Epoch 9/10\n",
      " - 1s - loss: 0.2951 - acc: 0.8937 - val_loss: 0.8093 - val_acc: 0.6894\n",
      "Epoch 10/10\n",
      " - 1s - loss: 0.2750 - acc: 0.8975 - val_loss: 0.8334 - val_acc: 0.6742\n"
     ]
    }
   ],
   "source": [
    "batch_size = 32\n",
    "history_aspect = aspect_categories_model.fit(X_train, Y_train, validation_data=(X_test, Y_test),epochs = 10, batch_size=batch_size, verbose = 2)\n",
    "#history_aspect=aspect_categories_model.fit(aspect_tokenized, dummy_category, epochs=10, verbose=1)"
   ]
  },
  {
   "cell_type": "markdown",
   "metadata": {},
   "source": [
    "Visaulizing Training Accuracy and Loss"
   ]
  },
  {
   "cell_type": "code",
   "execution_count": 8,
   "metadata": {},
   "outputs": [
    {
     "data": {
      "text/plain": [
       "<Figure size 432x288 with 0 Axes>"
      ]
     },
     "execution_count": 8,
     "metadata": {},
     "output_type": "execute_result"
    },
    {
     "data": {
      "image/png": "[encoded data removed]",
      "text/plain": [
       "<Figure size 432x288 with 1 Axes>"
      ]
     },
     "metadata": {
      "needs_background": "light"
     },
     "output_type": "display_data"
    },
    {
     "data": {
      "text/plain": [
       "<Figure size 432x288 with 0 Axes>"
      ]
     },
     "metadata": {},
     "output_type": "display_data"
    }
   ],
   "source": [
    "import matplotlib.pyplot as plt\n",
    "acc = history_aspect.history['acc']\n",
    "val_acc = history_aspect.history['val_acc']\n",
    "epochs = range(1, len(acc) + 1)\n",
    "\n",
    "plt.plot(epochs, acc, color = 'red', label='Training acc')\n",
    "plt.plot(epochs, val_acc, color = 'blue', label='Validation acc')\n",
    "plt.xlabel('Epochs')\n",
    "plt.ylabel('Accuracy')\n",
    "plt.legend(['Training Accuracy','Validation Accuracy'])\n",
    "\n",
    "plt.figure()"
   ]
  },
  {
   "cell_type": "code",
   "execution_count": 26,
   "metadata": {},
   "outputs": [
    {
     "name": "stdout",
     "output_type": "stream",
     "text": [
      "[[28  9  4]\n",
      " [10 38  3]\n",
      " [11  6 23]]\n",
      "Accuracy: 0.674242\n",
      "Precision: 0.685025\n",
      "Recall: 0.667675\n",
      "F1 score: 0.670045\n"
     ]
    }
   ],
   "source": [
    "import numpy as np \n",
    "\n",
    "from sklearn.metrics import accuracy_score\n",
    "from sklearn.metrics import precision_score\n",
    "from sklearn.metrics import recall_score\n",
    "from sklearn.metrics import f1_score\n",
    "from sklearn.metrics import confusion_matrix\n",
    "\n",
    "\n",
    "y_predict = aspect_categories_model.predict(X_test)\n",
    "y_test_non_category = [ np.argmax(t) for t in Y_test ]\n",
    "y_predict_non_category = [ np.argmax(t) for t in y_predict ]\n",
    "\n",
    "matrix = confusion_matrix(y_test_non_category, y_predict_non_category)\n",
    "print(matrix)\n",
    "# accuracy: (tp + tn) / (p + n)\n",
    "accuracy = accuracy_score(y_test_non_category, y_predict_non_category)\n",
    "print('Accuracy: %f' % accuracy)\n",
    "# precision tp / (tp + fp)\n",
    "precision = precision_score(y_test_non_category, y_predict_non_category,average='macro')\n",
    "print('Precision: %f' % precision)\n",
    "# recall: tp / (tp + fn)\n",
    "recall = recall_score(y_test_non_category, y_predict_non_category,average='macro')\n",
    "print('Recall: %f' % recall)\n",
    "# f1: 2 tp / (2 tp + fp + fn)\n",
    "f1 = f1_score(y_test_non_category, y_predict_non_category,average='macro')\n",
    "print('F1 score: %f' % f1)"
   ]
  },
  {
   "cell_type": "markdown",
   "metadata": {},
   "source": [
    "Testing the model on a new review using the same pre-processing"
   ]
  },
  {
   "cell_type": "code",
   "execution_count": 27,
   "metadata": {},
   "outputs": [
    {
     "name": "stdout",
     "output_type": "stream",
     "text": [
      "technologies\n",
      "['learning']\n"
     ]
    }
   ],
   "source": [
    "new_review = \"Good for learn new technologies \"\n",
    "\n",
    "chunks = [(chunk.root.text) for chunk in nlp(new_review).noun_chunks if chunk.root.pos_ == 'NOUN']\n",
    "new_review_aspect_terms = ' '.join(chunks)\n",
    "print(new_review_aspect_terms)\n",
    "new_review_aspect_tokenized = tokenizer.texts_to_matrix([new_review_aspect_terms])\n",
    "\n",
    "new_review_category = label_encoder.inverse_transform(aspect_categories_model.predict_classes(new_review_aspect_tokenized))\n",
    "print(new_review_category)"
   ]
  },
  {
   "cell_type": "code",
   "execution_count": null,
   "metadata": {},
   "outputs": [],
   "source": []
  }
 ],
 "metadata": {
  "kernelspec": {
   "display_name": "Python 3",
   "language": "python",
   "name": "python3"
  },
  "language_info": {
   "codemirror_mode": {
    "name": "ipython",
    "version": 3
   },
   "file_extension": ".py",
   "mimetype": "text/x-python",
   "name": "python",
   "nbconvert_exporter": "python",
   "pygments_lexer": "ipython3",
   "version": "3.6.7"
  }
 },
 "nbformat": 4,
 "nbformat_minor": 2
}

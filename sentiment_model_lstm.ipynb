{
 "cells": [
  {
   "cell_type": "code",
   "execution_count": 17,
   "metadata": {},
   "outputs": [],
   "source": [
    "import numpy as np \n",
    "import pandas as pd \n",
    "\n",
    "from sklearn.feature_extraction.text import CountVectorizer\n",
    "from keras.preprocessing.text import Tokenizer\n",
    "from keras.preprocessing.sequence import pad_sequences\n",
    "from keras.models import Sequential\n",
    "from keras.layers import Dense, Embedding, LSTM, SpatialDropout1D, Conv1D,GlobalMaxPooling1D, Dropout, Flatten\n",
    "from sklearn.model_selection import train_test_split\n",
    "from keras.utils.np_utils import to_categorical\n",
    "import re"
   ]
  },
  {
   "cell_type": "code",
   "execution_count": 2,
   "metadata": {},
   "outputs": [],
   "source": [
    "dataset = pd.read_csv('convertcsv.csv')\n",
    "data = dataset[['text','aspectCategories/aspectCategory/0/_polarity']]\n",
    "#data = dataset.rename(index=str, columns={ 0: \"text\", 6: \"sentiment\"})\n",
    "newdata = data.dropna()\n",
    "newdata.isnull().sum()\n",
    "newdata = newdata.rename(columns={'aspectCategories/aspectCategory/0/_polarity': 'sentiment'})"
   ]
  },
  {
   "cell_type": "code",
   "execution_count": 3,
   "metadata": {},
   "outputs": [
    {
     "name": "stdout",
     "output_type": "stream",
     "text": [
      "3484\n",
      "1316\n",
      "954\n",
      "334\n"
     ]
    },
    {
     "data": {
      "text/html": [
       "<div>\n",
       "<style scoped>\n",
       "    .dataframe tbody tr th:only-of-type {\n",
       "        vertical-align: middle;\n",
       "    }\n",
       "\n",
       "    .dataframe tbody tr th {\n",
       "        vertical-align: top;\n",
       "    }\n",
       "\n",
       "    .dataframe thead th {\n",
       "        text-align: right;\n",
       "    }\n",
       "</style>\n",
       "<table border=\"1\" class=\"dataframe\">\n",
       "  <thead>\n",
       "    <tr style=\"text-align: right;\">\n",
       "      <th></th>\n",
       "      <th>text</th>\n",
       "      <th>sentiment</th>\n",
       "    </tr>\n",
       "  </thead>\n",
       "  <tbody>\n",
       "    <tr>\n",
       "      <th>0</th>\n",
       "      <td>but the staff was so horrible to us.</td>\n",
       "      <td>negative</td>\n",
       "    </tr>\n",
       "    <tr>\n",
       "      <th>1</th>\n",
       "      <td>to be completely fair, the only redeeming fact...</td>\n",
       "      <td>positive</td>\n",
       "    </tr>\n",
       "    <tr>\n",
       "      <th>2</th>\n",
       "      <td>the food is uniformly exceptional, with a very...</td>\n",
       "      <td>positive</td>\n",
       "    </tr>\n",
       "    <tr>\n",
       "      <th>3</th>\n",
       "      <td>where gabriela personaly greets you and recomm...</td>\n",
       "      <td>positive</td>\n",
       "    </tr>\n",
       "    <tr>\n",
       "      <th>4</th>\n",
       "      <td>for those that go once and don't enjoy it, all...</td>\n",
       "      <td>positive</td>\n",
       "    </tr>\n",
       "  </tbody>\n",
       "</table>\n",
       "</div>"
      ],
      "text/plain": [
       "                                                text sentiment\n",
       "0               but the staff was so horrible to us.  negative\n",
       "1  to be completely fair, the only redeeming fact...  positive\n",
       "2  the food is uniformly exceptional, with a very...  positive\n",
       "3  where gabriela personaly greets you and recomm...  positive\n",
       "4  for those that go once and don't enjoy it, all...  positive"
      ]
     },
     "execution_count": 3,
     "metadata": {},
     "output_type": "execute_result"
    }
   ],
   "source": [
    "newdata['text'] = newdata['text'].apply(lambda x: x.lower())\n",
    "print(newdata[ newdata['sentiment'] == 'positive'].size)\n",
    "print(newdata[ newdata['sentiment'] == 'negative'].size)\n",
    "print(newdata[ newdata['sentiment'] == 'neutral'].size)\n",
    "print(newdata[ newdata['sentiment'] == 'conflict'].size)\n",
    "newdata = newdata[newdata.sentiment != \"conflict\"]\n",
    "newdata = newdata[newdata.sentiment != \"neutral\"]\n",
    "newdata.head(5)"
   ]
  },
  {
   "cell_type": "code",
   "execution_count": 4,
   "metadata": {},
   "outputs": [
    {
     "name": "stdout",
     "output_type": "stream",
     "text": [
      "2716\n",
      "1400\n",
      "1316\n"
     ]
    }
   ],
   "source": [
    "#Make number of classes balanced \n",
    "num_of_categories = 700\n",
    "shuffled = newdata.reindex(np.random.permutation(newdata.index))\n",
    "po = shuffled[shuffled['sentiment'] == 'positive'][:num_of_categories]\n",
    "ng = shuffled[shuffled['sentiment'] == 'negative'][:num_of_categories]\n",
    "\n",
    "concated = pd.concat([po,ng], ignore_index=True)\n",
    "#Shuffle the dataset\n",
    "concated = concated.reindex(np.random.permutation(concated.index))\n",
    "print(concated.size)\n",
    "\n",
    "print(concated[ concated['sentiment'] == 'positive'].size)\n",
    "print(concated[ concated['sentiment'] == 'negative'].size)\n"
   ]
  },
  {
   "cell_type": "code",
   "execution_count": 6,
   "metadata": {},
   "outputs": [],
   "source": [
    "max_fatures = 6000\n",
    "tokenizer = Tokenizer(num_words=max_fatures, split=' ')\n",
    "tokenizer.fit_on_texts(concated['text'].values)\n",
    "X = tokenizer.texts_to_sequences(concated['text'].values)\n",
    "X = pad_sequences(X)\n",
    "\n",
    "import pickle\n",
    "# saving\n",
    "with open('review_token_lstm.pickle', 'wb') as handle:\n",
    "    pickle.dump(tokenizer, handle, protocol=pickle.HIGHEST_PROTOCOL)"
   ]
  },
  {
   "cell_type": "code",
   "execution_count": 18,
   "metadata": {},
   "outputs": [
    {
     "name": "stdout",
     "output_type": "stream",
     "text": [
      "_________________________________________________________________\n",
      "Layer (type)                 Output Shape              Param #   \n",
      "=================================================================\n",
      "embedding_3 (Embedding)      (None, 69, 128)           768000    \n",
      "_________________________________________________________________\n",
      "conv1d_2 (Conv1D)            (None, 65, 128)           82048     \n",
      "_________________________________________________________________\n",
      "dropout_2 (Dropout)          (None, 65, 128)           0         \n",
      "_________________________________________________________________\n",
      "global_max_pooling1d_1 (Glob (None, 128)               0         \n",
      "_________________________________________________________________\n",
      "dense_2 (Dense)              (None, 10)                1290      \n",
      "_________________________________________________________________\n",
      "dropout_3 (Dropout)          (None, 10)                0         \n",
      "_________________________________________________________________\n",
      "dense_3 (Dense)              (None, 2)                 22        \n",
      "=================================================================\n",
      "Total params: 851,360\n",
      "Trainable params: 851,360\n",
      "Non-trainable params: 0\n",
      "_________________________________________________________________\n"
     ]
    }
   ],
   "source": [
    "embedding_dim = 128\n",
    "model = Sequential()\n",
    "model.add(Embedding(max_fatures, embedding_dim, input_length = X.shape[1]))\n",
    "model.add(Conv1D(128, 5, activation='relu'))\n",
    "model.add(Dropout(0.2))\n",
    "model.add(GlobalMaxPooling1D())\n",
    "model.add(Dense(10, activation='relu'))\n",
    "model.add(Dropout(0.2))\n",
    "model.add(Dense(2,activation='sigmoid'))\n",
    "model.compile(optimizer='adam',\n",
    "              loss='binary_crossentropy',\n",
    "              metrics=['accuracy'])\n",
    "model.summary()"
   ]
  },
  {
   "cell_type": "code",
   "execution_count": 19,
   "metadata": {},
   "outputs": [
    {
     "name": "stdout",
     "output_type": "stream",
     "text": [
      "[[1 0]\n",
      " [1 0]\n",
      " [1 0]\n",
      " ...\n",
      " [1 0]\n",
      " [1 0]\n",
      " [0 1]]\n",
      "(1086, 69) (1086, 2)\n",
      "(272, 69) (272, 2)\n"
     ]
    }
   ],
   "source": [
    "Y = pd.get_dummies(concated['sentiment']).values\n",
    "print(Y)\n",
    "X_train, X_test, Y_train, Y_test = train_test_split(X,Y, test_size = 0.2, random_state = 42)\n",
    "print(X_train.shape,Y_train.shape)\n",
    "print(X_test.shape,Y_test.shape)"
   ]
  },
  {
   "cell_type": "code",
   "execution_count": 20,
   "metadata": {},
   "outputs": [
    {
     "name": "stdout",
     "output_type": "stream",
     "text": [
      "Train on 1086 samples, validate on 272 samples\n",
      "Epoch 1/10\n",
      " - 2s - loss: 0.6910 - acc: 0.5226 - val_loss: 0.6817 - val_acc: 0.5956\n",
      "Epoch 2/10\n",
      " - 1s - loss: 0.6456 - acc: 0.6722 - val_loss: 0.6368 - val_acc: 0.7132\n",
      "Epoch 3/10\n",
      " - 1s - loss: 0.5067 - acc: 0.8158 - val_loss: 0.5423 - val_acc: 0.7592\n",
      "Epoch 4/10\n",
      " - 1s - loss: 0.3213 - acc: 0.8665 - val_loss: 0.4554 - val_acc: 0.7923\n",
      "Epoch 5/10\n",
      " - 1s - loss: 0.1822 - acc: 0.9259 - val_loss: 0.4769 - val_acc: 0.8070\n",
      "Epoch 6/10\n",
      " - 1s - loss: 0.1195 - acc: 0.9710 - val_loss: 0.5168 - val_acc: 0.8033\n",
      "Epoch 7/10\n",
      " - 1s - loss: 0.0768 - acc: 0.9880 - val_loss: 0.5622 - val_acc: 0.8015\n",
      "Epoch 8/10\n",
      " - 1s - loss: 0.0607 - acc: 0.9899 - val_loss: 0.6303 - val_acc: 0.7849\n",
      "Epoch 9/10\n",
      " - 1s - loss: 0.0447 - acc: 0.9959 - val_loss: 0.6821 - val_acc: 0.7812\n",
      "Epoch 10/10\n",
      " - 1s - loss: 0.0472 - acc: 0.9936 - val_loss: 0.7082 - val_acc: 0.7941\n"
     ]
    }
   ],
   "source": [
    "batch_size = 32\n",
    "sentiment_model = model.fit(X_train, Y_train, validation_data=(X_test, Y_test),epochs = 10, batch_size=batch_size, verbose = 2)"
   ]
  },
  {
   "cell_type": "code",
   "execution_count": 21,
   "metadata": {},
   "outputs": [
    {
     "data": {
      "text/plain": [
       "<Figure size 432x288 with 0 Axes>"
      ]
     },
     "execution_count": 21,
     "metadata": {},
     "output_type": "execute_result"
    },
    {
     "data": {
      "image/png": "[encoded data removed]",
      "text/plain": [
       "<Figure size 432x288 with 1 Axes>"
      ]
     },
     "metadata": {
      "needs_background": "light"
     },
     "output_type": "display_data"
    },
    {
     "data": {
      "text/plain": [
       "<Figure size 432x288 with 0 Axes>"
      ]
     },
     "metadata": {},
     "output_type": "display_data"
    }
   ],
   "source": [
    "import matplotlib.pyplot as plt\n",
    "acc = sentiment_model.history['acc']\n",
    "val_acc = sentiment_model.history['val_acc']\n",
    "epochs = range(1, len(acc) + 1)\n",
    "\n",
    "plt.plot(epochs, acc, color = 'red', label='Training acc')\n",
    "plt.plot(epochs, val_acc, color = 'blue', label='Validation acc')\n",
    "plt.xlabel('Epochs')\n",
    "plt.ylabel('Accuracy')\n",
    "plt.legend(['Training Accuracy','Validation Accuracy'])\n",
    "\n",
    "plt.figure()"
   ]
  },
  {
   "cell_type": "code",
   "execution_count": 22,
   "metadata": {},
   "outputs": [
    {
     "name": "stdout",
     "output_type": "stream",
     "text": [
      "[[ 86  32]\n",
      " [ 25 129]]\n",
      "0.7832379484921858\n",
      "0.7880085053998097\n",
      "0.7856159848570332\n"
     ]
    }
   ],
   "source": [
    "y_predict = model.predict(X_test)\n",
    "y_test_non_category = [ np.argmax(t) for t in Y_test ]\n",
    "y_predict_non_category = [ np.argmax(t) for t in y_predict ]\n",
    "\n",
    "from sklearn.metrics import confusion_matrix\n",
    "conf_mat = confusion_matrix(y_test_non_category, y_predict_non_category)\n",
    "print(conf_mat)\n",
    "\n",
    "true_pos = np.diag(conf_mat) \n",
    "precision = true_pos / np.sum(conf_mat, axis=0)\n",
    "recall = true_pos / np.sum(conf_mat, axis=1)\n",
    "mean_recall = np.mean(recall)\n",
    "mean_precision = np.mean(precision)\n",
    "mean_f1 = 2 * (mean_precision * mean_recall) / (mean_precision + mean_recall)\n",
    "print(mean_recall)\n",
    "print(mean_precision)\n",
    "print(mean_f1)"
   ]
  },
  {
   "cell_type": "code",
   "execution_count": 24,
   "metadata": {},
   "outputs": [
    {
     "name": "stdout",
     "output_type": "stream",
     "text": [
      "[0.3887798 0.5021198]\n",
      "0.5021198\n",
      "neutral\n"
     ]
    }
   ],
   "source": [
    "review = [\"Lacks diversity in workforce\"]\n",
    "#vectorizing the tweet by the pre-fitted tokenizer instance\n",
    "review = tokenizer.texts_to_sequences(review)\n",
    "#padding the tweet to have exactly the same shape as `embedding_2` input\n",
    "review = pad_sequences(review, maxlen=69, dtype='int32', value=0)\n",
    "#print(review)\n",
    "sentiment = model.predict(review,batch_size=1,verbose = 2)[0]\n",
    "print(sentiment)\n",
    "score = np.max(sentiment)\n",
    "print(score)\n",
    "position = np.argmax(sentiment)\n",
    "if position == 0 and score > 0.55:\n",
    "    print('negative')\n",
    "elif position == 1 and score > 0.55:\n",
    "    print('positive')\n",
    "elif position == 0 or position == 1 and score >= 0.45 and score <=0.55:\n",
    "    print('neutral')"
   ]
  },
  {
   "cell_type": "code",
   "execution_count": 38,
   "metadata": {},
   "outputs": [],
   "source": [
    "from keras.models import load_model\n",
    "\n",
    "model.save('sentiment_model_lstm_large.h5')"
   ]
  },
  {
   "cell_type": "code",
   "execution_count": null,
   "metadata": {},
   "outputs": [],
   "source": []
  }
 ],
 "metadata": {
  "kernelspec": {
   "display_name": "Python 3",
   "language": "python",
   "name": "python3"
  },
  "language_info": {
   "codemirror_mode": {
    "name": "ipython",
    "version": 3
   },
   "file_extension": ".py",
   "mimetype": "text/x-python",
   "name": "python",
   "nbconvert_exporter": "python",
   "pygments_lexer": "ipython3",
   "version": "3.6.7"
  }
 },
 "nbformat": 4,
 "nbformat_minor": 2
}

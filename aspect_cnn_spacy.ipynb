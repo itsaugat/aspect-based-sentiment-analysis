{
 "cells": [
  {
   "cell_type": "code",
   "execution_count": 1,
   "metadata": {},
   "outputs": [
    {
     "name": "stderr",
     "output_type": "stream",
     "text": [
      "Using TensorFlow backend.\n"
     ]
    }
   ],
   "source": [
    "import numpy as np \n",
    "import pandas as pd \n",
    "\n",
    "from sklearn.feature_extraction.text import CountVectorizer\n",
    "from keras.preprocessing.text import Tokenizer\n",
    "from keras.preprocessing.sequence import pad_sequences\n",
    "from keras.models import Sequential\n",
    "from keras.layers import Dense, Embedding, LSTM, SpatialDropout1D, Conv1D,GlobalMaxPooling1D, Dropout, Flatten\n",
    "from sklearn.model_selection import train_test_split\n",
    "from keras.utils.np_utils import to_categorical\n",
    "import re"
   ]
  },
  {
   "cell_type": "code",
   "execution_count": 2,
   "metadata": {},
   "outputs": [
    {
     "data": {
      "text/html": [
       "<div>\n",
       "<style scoped>\n",
       "    .dataframe tbody tr th:only-of-type {\n",
       "        vertical-align: middle;\n",
       "    }\n",
       "\n",
       "    .dataframe tbody tr th {\n",
       "        vertical-align: top;\n",
       "    }\n",
       "\n",
       "    .dataframe thead th {\n",
       "        text-align: right;\n",
       "    }\n",
       "</style>\n",
       "<table border=\"1\" class=\"dataframe\">\n",
       "  <thead>\n",
       "    <tr style=\"text-align: right;\">\n",
       "      <th></th>\n",
       "      <th>review</th>\n",
       "      <th>aspect_category</th>\n",
       "      <th>sentiment</th>\n",
       "    </tr>\n",
       "  </thead>\n",
       "  <tbody>\n",
       "    <tr>\n",
       "      <th>522</th>\n",
       "      <td>back to back lessons can get tiring</td>\n",
       "      <td>learning</td>\n",
       "      <td>Neutral</td>\n",
       "    </tr>\n",
       "    <tr>\n",
       "      <th>506</th>\n",
       "      <td>make the right technical decisions and grow th...</td>\n",
       "      <td>learning</td>\n",
       "      <td>Neutral</td>\n",
       "    </tr>\n",
       "    <tr>\n",
       "      <th>267</th>\n",
       "      <td>this should at a high level to reward good peo...</td>\n",
       "      <td>leadership</td>\n",
       "      <td>Positive</td>\n",
       "    </tr>\n",
       "    <tr>\n",
       "      <th>169</th>\n",
       "      <td>constant change due to explosive growth, not a...</td>\n",
       "      <td>environment</td>\n",
       "      <td>Neutral</td>\n",
       "    </tr>\n",
       "    <tr>\n",
       "      <th>641</th>\n",
       "      <td>training courses are average at best and then ...</td>\n",
       "      <td>learning</td>\n",
       "      <td>Neutral</td>\n",
       "    </tr>\n",
       "  </tbody>\n",
       "</table>\n",
       "</div>"
      ],
      "text/plain": [
       "                                                review aspect_category  \\\n",
       "522                back to back lessons can get tiring        learning   \n",
       "506  make the right technical decisions and grow th...        learning   \n",
       "267  this should at a high level to reward good peo...     leadership    \n",
       "169  constant change due to explosive growth, not a...     environment   \n",
       "641  training courses are average at best and then ...        learning   \n",
       "\n",
       "    sentiment  \n",
       "522   Neutral  \n",
       "506   Neutral  \n",
       "267  Positive  \n",
       "169   Neutral  \n",
       "641   Neutral  "
      ]
     },
     "execution_count": 2,
     "metadata": {},
     "output_type": "execute_result"
    }
   ],
   "source": [
    "from sklearn.utils import shuffle\n",
    "dataset = pd.read_csv('train.csv', encoding='ISO-8859-1', header= None)\n",
    "dataset = dataset.rename(index=str, columns={ 0: \"review\", 1: \"aspect_category\", 2: \"sentiment\"})\n",
    "dataset.review = dataset.review.str.lower()\n",
    "dataset = shuffle(dataset)\n",
    "dataset.head(5)"
   ]
  },
  {
   "cell_type": "code",
   "execution_count": 11,
   "metadata": {},
   "outputs": [
    {
     "data": {
      "text/html": [
       "<div>\n",
       "<style scoped>\n",
       "    .dataframe tbody tr th:only-of-type {\n",
       "        vertical-align: middle;\n",
       "    }\n",
       "\n",
       "    .dataframe tbody tr th {\n",
       "        vertical-align: top;\n",
       "    }\n",
       "\n",
       "    .dataframe thead th {\n",
       "        text-align: right;\n",
       "    }\n",
       "</style>\n",
       "<table border=\"1\" class=\"dataframe\">\n",
       "  <thead>\n",
       "    <tr style=\"text-align: right;\">\n",
       "      <th></th>\n",
       "      <th>review</th>\n",
       "      <th>aspect_category</th>\n",
       "      <th>sentiment</th>\n",
       "      <th>aspect_terms</th>\n",
       "    </tr>\n",
       "  </thead>\n",
       "  <tbody>\n",
       "    <tr>\n",
       "      <th>522</th>\n",
       "      <td>back to back lessons can get tiring</td>\n",
       "      <td>learning</td>\n",
       "      <td>Neutral</td>\n",
       "      <td>lessons</td>\n",
       "    </tr>\n",
       "    <tr>\n",
       "      <th>506</th>\n",
       "      <td>make the right technical decisions and grow th...</td>\n",
       "      <td>learning</td>\n",
       "      <td>Neutral</td>\n",
       "      <td>decisions careers</td>\n",
       "    </tr>\n",
       "    <tr>\n",
       "      <th>267</th>\n",
       "      <td>this should at a high level to reward good peo...</td>\n",
       "      <td>leadership</td>\n",
       "      <td>Positive</td>\n",
       "      <td>level managers</td>\n",
       "    </tr>\n",
       "    <tr>\n",
       "      <th>169</th>\n",
       "      <td>constant change due to explosive growth, not a...</td>\n",
       "      <td>environment</td>\n",
       "      <td>Neutral</td>\n",
       "      <td>change growth thing</td>\n",
       "    </tr>\n",
       "    <tr>\n",
       "      <th>641</th>\n",
       "      <td>training courses are average at best and then ...</td>\n",
       "      <td>learning</td>\n",
       "      <td>Neutral</td>\n",
       "      <td>courses ground</td>\n",
       "    </tr>\n",
       "    <tr>\n",
       "      <th>616</th>\n",
       "      <td>you can learn and grow very fast.</td>\n",
       "      <td>learning</td>\n",
       "      <td>Positive</td>\n",
       "      <td></td>\n",
       "    </tr>\n",
       "    <tr>\n",
       "      <th>47</th>\n",
       "      <td>you get to be part of one of the most innovati...</td>\n",
       "      <td>environment</td>\n",
       "      <td>Positive</td>\n",
       "      <td>part companies planet</td>\n",
       "    </tr>\n",
       "    <tr>\n",
       "      <th>396</th>\n",
       "      <td>managers support upward and lateral mobility a...</td>\n",
       "      <td>leadership</td>\n",
       "      <td>Positive</td>\n",
       "      <td>managers employees</td>\n",
       "    </tr>\n",
       "    <tr>\n",
       "      <th>649</th>\n",
       "      <td>no coaching</td>\n",
       "      <td>learning</td>\n",
       "      <td>Negative</td>\n",
       "      <td>coaching</td>\n",
       "    </tr>\n",
       "    <tr>\n",
       "      <th>608</th>\n",
       "      <td>lots of opportunities at amazon.</td>\n",
       "      <td>learning</td>\n",
       "      <td>Positive</td>\n",
       "      <td>lots opportunities amazon</td>\n",
       "    </tr>\n",
       "  </tbody>\n",
       "</table>\n",
       "</div>"
      ],
      "text/plain": [
       "                                                review aspect_category  \\\n",
       "522                back to back lessons can get tiring        learning   \n",
       "506  make the right technical decisions and grow th...        learning   \n",
       "267  this should at a high level to reward good peo...     leadership    \n",
       "169  constant change due to explosive growth, not a...     environment   \n",
       "641  training courses are average at best and then ...        learning   \n",
       "616                 you can learn and grow very fast.         learning   \n",
       "47   you get to be part of one of the most innovati...     environment   \n",
       "396  managers support upward and lateral mobility a...     leadership    \n",
       "649                                        no coaching        learning   \n",
       "608                   lots of opportunities at amazon.        learning   \n",
       "\n",
       "    sentiment               aspect_terms  \n",
       "522   Neutral                    lessons  \n",
       "506   Neutral          decisions careers  \n",
       "267  Positive             level managers  \n",
       "169   Neutral        change growth thing  \n",
       "641   Neutral             courses ground  \n",
       "616  Positive                             \n",
       "47   Positive      part companies planet  \n",
       "396  Positive         managers employees  \n",
       "649  Negative                   coaching  \n",
       "608  Positive  lots opportunities amazon  "
      ]
     },
     "execution_count": 11,
     "metadata": {},
     "output_type": "execute_result"
    }
   ],
   "source": [
    "import spacy\n",
    "nlp = spacy.load('en')\n",
    "\n",
    "dataset.review = dataset.review.str.lower()\n",
    "\n",
    "aspect_terms = []\n",
    "for review in nlp.pipe(dataset.review):\n",
    "    chunks = [(chunk.root.text) for chunk in review.noun_chunks if chunk.root.pos_ == 'NOUN']\n",
    "    aspect_terms.append(' '.join(chunks))\n",
    "dataset['aspect_terms'] = aspect_terms\n",
    "dataset.head(10)"
   ]
  },
  {
   "cell_type": "code",
   "execution_count": 13,
   "metadata": {},
   "outputs": [],
   "source": [
    "max_fatures = 6000\n",
    "tokenizer = Tokenizer(num_words=max_fatures, split=' ')\n",
    "tokenizer.fit_on_texts(dataset['aspect_terms'].values)\n",
    "X = tokenizer.texts_to_sequences(dataset['aspect_terms'].values)\n",
    "X = pad_sequences(X)"
   ]
  },
  {
   "cell_type": "code",
   "execution_count": 14,
   "metadata": {},
   "outputs": [
    {
     "name": "stdout",
     "output_type": "stream",
     "text": [
      "_________________________________________________________________\n",
      "Layer (type)                 Output Shape              Param #   \n",
      "=================================================================\n",
      "embedding_2 (Embedding)      (None, 6, 128)            768000    \n",
      "_________________________________________________________________\n",
      "conv1d_2 (Conv1D)            (None, 2, 128)            82048     \n",
      "_________________________________________________________________\n",
      "dropout_3 (Dropout)          (None, 2, 128)            0         \n",
      "_________________________________________________________________\n",
      "global_max_pooling1d_2 (Glob (None, 128)               0         \n",
      "_________________________________________________________________\n",
      "dense_3 (Dense)              (None, 10)                1290      \n",
      "_________________________________________________________________\n",
      "dropout_4 (Dropout)          (None, 10)                0         \n",
      "_________________________________________________________________\n",
      "dense_4 (Dense)              (None, 3)                 33        \n",
      "=================================================================\n",
      "Total params: 851,371\n",
      "Trainable params: 851,371\n",
      "Non-trainable params: 0\n",
      "_________________________________________________________________\n"
     ]
    }
   ],
   "source": [
    "embedding_dim = 128\n",
    "model = Sequential()\n",
    "model.add(Embedding(max_fatures, embedding_dim, input_length = X.shape[1]))\n",
    "model.add(Conv1D(128, 5, activation='relu'))\n",
    "model.add(Dropout(0.2))\n",
    "model.add(GlobalMaxPooling1D())\n",
    "model.add(Dense(10, activation='relu'))\n",
    "model.add(Dropout(0.2))\n",
    "model.add(Dense(3, activation='softmax'))\n",
    "model.compile(optimizer='adam',\n",
    "              loss='categorical_crossentropy',\n",
    "              metrics=['accuracy'])\n",
    "model.summary()"
   ]
  },
  {
   "cell_type": "code",
   "execution_count": 15,
   "metadata": {},
   "outputs": [
    {
     "name": "stdout",
     "output_type": "stream",
     "text": [
      "(527, 6) (527, 3)\n",
      "(132, 6) (132, 3)\n"
     ]
    }
   ],
   "source": [
    "Y = pd.get_dummies(dataset['aspect_category']).values\n",
    "#print(Y)\n",
    "X_train, X_test, Y_train, Y_test = train_test_split(X,Y, test_size = 0.2, random_state = 42)\n",
    "print(X_train.shape,Y_train.shape)\n",
    "print(X_test.shape,Y_test.shape)"
   ]
  },
  {
   "cell_type": "code",
   "execution_count": 16,
   "metadata": {},
   "outputs": [
    {
     "name": "stdout",
     "output_type": "stream",
     "text": [
      "Train on 527 samples, validate on 132 samples\n",
      "Epoch 1/10\n",
      " - 1s - loss: 1.0953 - acc: 0.3567 - val_loss: 1.0909 - val_acc: 0.4242\n",
      "Epoch 2/10\n",
      " - 0s - loss: 1.0725 - acc: 0.4497 - val_loss: 1.0627 - val_acc: 0.5682\n",
      "Epoch 3/10\n",
      " - 0s - loss: 1.0043 - acc: 0.5693 - val_loss: 1.0163 - val_acc: 0.5758\n",
      "Epoch 4/10\n",
      " - 0s - loss: 0.8653 - acc: 0.6831 - val_loss: 0.9078 - val_acc: 0.6212\n",
      "Epoch 5/10\n",
      " - 0s - loss: 0.6634 - acc: 0.7799 - val_loss: 0.8126 - val_acc: 0.6364\n",
      "Epoch 6/10\n",
      " - 0s - loss: 0.5125 - acc: 0.8197 - val_loss: 0.8443 - val_acc: 0.6212\n",
      "Epoch 7/10\n",
      " - 0s - loss: 0.4024 - acc: 0.8691 - val_loss: 0.8775 - val_acc: 0.6288\n",
      "Epoch 8/10\n",
      " - 0s - loss: 0.3637 - acc: 0.8653 - val_loss: 0.9159 - val_acc: 0.6364\n",
      "Epoch 9/10\n",
      " - 0s - loss: 0.3303 - acc: 0.8824 - val_loss: 0.9356 - val_acc: 0.6288\n",
      "Epoch 10/10\n",
      " - 0s - loss: 0.3100 - acc: 0.8805 - val_loss: 0.9732 - val_acc: 0.6212\n"
     ]
    }
   ],
   "source": [
    "batch_size = 32\n",
    "sentiment_model = model.fit(X_train, Y_train, validation_data=(X_test, Y_test),epochs = 10, batch_size=batch_size, verbose = 2)"
   ]
  },
  {
   "cell_type": "code",
   "execution_count": 17,
   "metadata": {},
   "outputs": [
    {
     "data": {
      "text/plain": [
       "<Figure size 432x288 with 0 Axes>"
      ]
     },
     "execution_count": 17,
     "metadata": {},
     "output_type": "execute_result"
    },
    {
     "data": {
      "image/png": "[encoded data removed]",
      "text/plain": [
       "<Figure size 432x288 with 1 Axes>"
      ]
     },
     "metadata": {
      "needs_background": "light"
     },
     "output_type": "display_data"
    },
    {
     "data": {
      "text/plain": [
       "<Figure size 432x288 with 0 Axes>"
      ]
     },
     "metadata": {},
     "output_type": "display_data"
    }
   ],
   "source": [
    "import matplotlib.pyplot as plt\n",
    "acc = sentiment_model.history['acc']\n",
    "val_acc = sentiment_model.history['val_acc']\n",
    "epochs = range(1, len(acc) + 1)\n",
    "\n",
    "plt.plot(epochs, acc, color = 'red', label='Training acc')\n",
    "plt.plot(epochs, val_acc, color = 'blue', label='Validation acc')\n",
    "plt.xlabel('Epochs')\n",
    "plt.ylabel('Accuracy')\n",
    "plt.legend(['Training Accuracy','Validation Accuracy'])\n",
    "\n",
    "plt.figure()"
   ]
  },
  {
   "cell_type": "code",
   "execution_count": 18,
   "metadata": {},
   "outputs": [
    {
     "name": "stdout",
     "output_type": "stream",
     "text": [
      "[[28  6  6]\n",
      " [16 34  4]\n",
      " [12  6 20]]\n",
      "Accuracy: 0.621212\n",
      "Precision: 0.635266\n",
      "Recall: 0.618648\n",
      "F1 score: 0.617190\n"
     ]
    }
   ],
   "source": [
    "import numpy as np \n",
    "\n",
    "from sklearn.metrics import accuracy_score\n",
    "from sklearn.metrics import precision_score\n",
    "from sklearn.metrics import recall_score\n",
    "from sklearn.metrics import f1_score\n",
    "from sklearn.metrics import confusion_matrix\n",
    "\n",
    "\n",
    "y_predict = model.predict(X_test)\n",
    "y_test_non_category = [ np.argmax(t) for t in Y_test ]\n",
    "y_predict_non_category = [ np.argmax(t) for t in y_predict ]\n",
    "\n",
    "matrix = confusion_matrix(y_test_non_category, y_predict_non_category)\n",
    "print(matrix)\n",
    "# accuracy: (tp + tn) / (p + n)\n",
    "accuracy = accuracy_score(y_test_non_category, y_predict_non_category)\n",
    "print('Accuracy: %f' % accuracy)\n",
    "# precision tp / (tp + fp)\n",
    "precision = precision_score(y_test_non_category, y_predict_non_category,average='macro')\n",
    "print('Precision: %f' % precision)\n",
    "# recall: tp / (tp + fn)\n",
    "recall = recall_score(y_test_non_category, y_predict_non_category,average='macro')\n",
    "print('Recall: %f' % recall)\n",
    "# f1: 2 tp / (2 tp + fp + fn)\n",
    "f1 = f1_score(y_test_non_category, y_predict_non_category,average='macro')\n",
    "print('F1 score: %f' % f1)"
   ]
  },
  {
   "cell_type": "code",
   "execution_count": null,
   "metadata": {},
   "outputs": [],
   "source": []
  }
 ],
 "metadata": {
  "kernelspec": {
   "display_name": "Python 3",
   "language": "python",
   "name": "python3"
  },
  "language_info": {
   "codemirror_mode": {
    "name": "ipython",
    "version": 3
   },
   "file_extension": ".py",
   "mimetype": "text/x-python",
   "name": "python",
   "nbconvert_exporter": "python",
   "pygments_lexer": "ipython3",
   "version": "3.6.7"
  }
 },
 "nbformat": 4,
 "nbformat_minor": 2
}

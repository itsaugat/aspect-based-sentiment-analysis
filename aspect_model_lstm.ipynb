{
 "cells": [
  {
   "cell_type": "code",
   "execution_count": 1,
   "metadata": {},
   "outputs": [
    {
     "name": "stderr",
     "output_type": "stream",
     "text": [
      "Using TensorFlow backend.\n"
     ]
    }
   ],
   "source": [
    "import numpy as np \n",
    "import pandas as pd \n",
    "from keras.layers import Dense, Embedding, LSTM, SpatialDropout1D\n",
    "from keras.models import Sequential\n",
    "from sklearn.feature_extraction.text import CountVectorizer\n",
    "from keras.preprocessing.text import Tokenizer\n",
    "from keras.preprocessing.sequence import pad_sequences\n",
    "from sklearn.model_selection import train_test_split\n",
    "from keras.utils.np_utils import to_categorical\n",
    "from keras.callbacks import EarlyStopping"
   ]
  },
  {
   "cell_type": "code",
   "execution_count": 2,
   "metadata": {},
   "outputs": [
    {
     "data": {
      "text/html": [
       "<div>\n",
       "<style scoped>\n",
       "    .dataframe tbody tr th:only-of-type {\n",
       "        vertical-align: middle;\n",
       "    }\n",
       "\n",
       "    .dataframe tbody tr th {\n",
       "        vertical-align: top;\n",
       "    }\n",
       "\n",
       "    .dataframe thead th {\n",
       "        text-align: right;\n",
       "    }\n",
       "</style>\n",
       "<table border=\"1\" class=\"dataframe\">\n",
       "  <thead>\n",
       "    <tr style=\"text-align: right;\">\n",
       "      <th></th>\n",
       "      <th>review</th>\n",
       "      <th>aspect_category</th>\n",
       "    </tr>\n",
       "  </thead>\n",
       "  <tbody>\n",
       "    <tr>\n",
       "      <th>0</th>\n",
       "      <td>I have heard many stories of them helping empl...</td>\n",
       "      <td>environment</td>\n",
       "    </tr>\n",
       "    <tr>\n",
       "      <th>1</th>\n",
       "      <td>give you advice, support, and overall super fr...</td>\n",
       "      <td>environment</td>\n",
       "    </tr>\n",
       "    <tr>\n",
       "      <th>2</th>\n",
       "      <td>Everyone I work with is willing to help when y...</td>\n",
       "      <td>environment</td>\n",
       "    </tr>\n",
       "    <tr>\n",
       "      <th>3</th>\n",
       "      <td>The company provides you with a ton of resourc...</td>\n",
       "      <td>environment</td>\n",
       "    </tr>\n",
       "    <tr>\n",
       "      <th>4</th>\n",
       "      <td>it is a very transparent workplace that offers...</td>\n",
       "      <td>environment</td>\n",
       "    </tr>\n",
       "  </tbody>\n",
       "</table>\n",
       "</div>"
      ],
      "text/plain": [
       "                                              review aspect_category\n",
       "0  I have heard many stories of them helping empl...     environment\n",
       "1  give you advice, support, and overall super fr...     environment\n",
       "2  Everyone I work with is willing to help when y...     environment\n",
       "3  The company provides you with a ton of resourc...     environment\n",
       "4  it is a very transparent workplace that offers...     environment"
      ]
     },
     "execution_count": 2,
     "metadata": {},
     "output_type": "execute_result"
    }
   ],
   "source": [
    "dataset = pd.read_csv('train.csv', encoding='ISO-8859-1', header= None)\n",
    "dataset = dataset.rename(index=str, columns={ 0: \"review\", 1: \"aspect_category\", 2: \"sentiment\"})\n",
    "data = dataset[['review','aspect_category']]\n",
    "data.head(5)"
   ]
  },
  {
   "cell_type": "code",
   "execution_count": 3,
   "metadata": {},
   "outputs": [
    {
     "data": {
      "text/html": [
       "<div>\n",
       "<style scoped>\n",
       "    .dataframe tbody tr th:only-of-type {\n",
       "        vertical-align: middle;\n",
       "    }\n",
       "\n",
       "    .dataframe tbody tr th {\n",
       "        vertical-align: top;\n",
       "    }\n",
       "\n",
       "    .dataframe thead th {\n",
       "        text-align: right;\n",
       "    }\n",
       "</style>\n",
       "<table border=\"1\" class=\"dataframe\">\n",
       "  <thead>\n",
       "    <tr style=\"text-align: right;\">\n",
       "      <th></th>\n",
       "      <th>review</th>\n",
       "      <th>aspect_category</th>\n",
       "      <th>sentiment</th>\n",
       "      <th>aspect_terms</th>\n",
       "    </tr>\n",
       "  </thead>\n",
       "  <tbody>\n",
       "    <tr>\n",
       "      <th>0</th>\n",
       "      <td>i have heard many stories of them helping empl...</td>\n",
       "      <td>environment</td>\n",
       "      <td>Positive</td>\n",
       "      <td>stories employees what companies circumstances</td>\n",
       "    </tr>\n",
       "    <tr>\n",
       "      <th>1</th>\n",
       "      <td>give you advice, support, and overall super fr...</td>\n",
       "      <td>environment</td>\n",
       "      <td>Positive</td>\n",
       "      <td>advice support</td>\n",
       "    </tr>\n",
       "    <tr>\n",
       "      <th>2</th>\n",
       "      <td>everyone i work with is willing to help when y...</td>\n",
       "      <td>environment</td>\n",
       "      <td>Positive</td>\n",
       "      <td>everyone</td>\n",
       "    </tr>\n",
       "    <tr>\n",
       "      <th>3</th>\n",
       "      <td>the company provides you with a ton of resourc...</td>\n",
       "      <td>environment</td>\n",
       "      <td>Positive</td>\n",
       "      <td>company ton resources benefits</td>\n",
       "    </tr>\n",
       "    <tr>\n",
       "      <th>4</th>\n",
       "      <td>it is a very transparent workplace that offers...</td>\n",
       "      <td>environment</td>\n",
       "      <td>Positive</td>\n",
       "      <td>workplace employees ability</td>\n",
       "    </tr>\n",
       "    <tr>\n",
       "      <th>5</th>\n",
       "      <td>work/life balance. what balance? all those per...</td>\n",
       "      <td>environment</td>\n",
       "      <td>Negative</td>\n",
       "      <td>balance what perks benefits illusion</td>\n",
       "    </tr>\n",
       "    <tr>\n",
       "      <th>6</th>\n",
       "      <td>. i've never met anybody at google who actuall...</td>\n",
       "      <td>environment</td>\n",
       "      <td>Negative</td>\n",
       "      <td>anybody who weekends vacations</td>\n",
       "    </tr>\n",
       "    <tr>\n",
       "      <th>7</th>\n",
       "      <td>\"you have to work on weekends/vacations\" but, ...</td>\n",
       "      <td>environment</td>\n",
       "      <td>Negative</td>\n",
       "      <td>vacations culture</td>\n",
       "    </tr>\n",
       "    <tr>\n",
       "      <th>8</th>\n",
       "      <td>do something about that work-ife balance.</td>\n",
       "      <td>environment</td>\n",
       "      <td>Negative</td>\n",
       "      <td>something balance</td>\n",
       "    </tr>\n",
       "    <tr>\n",
       "      <th>9</th>\n",
       "      <td>you can't find a more well-regarded company th...</td>\n",
       "      <td>environment</td>\n",
       "      <td>Positive</td>\n",
       "      <td>company hype</td>\n",
       "    </tr>\n",
       "  </tbody>\n",
       "</table>\n",
       "</div>"
      ],
      "text/plain": [
       "                                              review aspect_category  \\\n",
       "0  i have heard many stories of them helping empl...     environment   \n",
       "1  give you advice, support, and overall super fr...     environment   \n",
       "2  everyone i work with is willing to help when y...     environment   \n",
       "3  the company provides you with a ton of resourc...     environment   \n",
       "4  it is a very transparent workplace that offers...     environment   \n",
       "5  work/life balance. what balance? all those per...     environment   \n",
       "6  . i've never met anybody at google who actuall...     environment   \n",
       "7  \"you have to work on weekends/vacations\" but, ...     environment   \n",
       "8         do something about that work-ife balance.      environment   \n",
       "9  you can't find a more well-regarded company th...     environment   \n",
       "\n",
       "  sentiment                                    aspect_terms  \n",
       "0  Positive  stories employees what companies circumstances  \n",
       "1  Positive                                  advice support  \n",
       "2  Positive                                        everyone  \n",
       "3  Positive                  company ton resources benefits  \n",
       "4  Positive                     workplace employees ability  \n",
       "5  Negative            balance what perks benefits illusion  \n",
       "6  Negative                  anybody who weekends vacations  \n",
       "7  Negative                               vacations culture  \n",
       "8  Negative                               something balance  \n",
       "9  Positive                                    company hype  "
      ]
     },
     "execution_count": 3,
     "metadata": {},
     "output_type": "execute_result"
    }
   ],
   "source": [
    "import spacy\n",
    "nlp = spacy.load('en')\n",
    "\n",
    "dataset.review = dataset.review.str.lower()\n",
    "\n",
    "aspect_terms = []\n",
    "for review in nlp.pipe(dataset.review):\n",
    "    chunks = [(chunk.root.text) for chunk in review.noun_chunks if chunk.root.pos_ == 'NOUN']\n",
    "    aspect_terms.append(' '.join(chunks))\n",
    "dataset['aspect_terms'] = aspect_terms\n",
    "dataset.head(10)"
   ]
  },
  {
   "cell_type": "code",
   "execution_count": 4,
   "metadata": {},
   "outputs": [],
   "source": [
    "max_fatures = 6000\n",
    "tokenizer = Tokenizer(num_words=max_fatures, split=' ')\n",
    "tokenizer.fit_on_texts(dataset['aspect_terms'].values)\n",
    "X = tokenizer.texts_to_sequences(dataset['aspect_terms'].values)\n",
    "X = pad_sequences(X)"
   ]
  },
  {
   "cell_type": "code",
   "execution_count": 8,
   "metadata": {},
   "outputs": [
    {
     "name": "stdout",
     "output_type": "stream",
     "text": [
      "[[1 0 0]\n",
      " [1 0 0]\n",
      " [1 0 0]\n",
      " ...\n",
      " [0 0 1]\n",
      " [0 0 1]\n",
      " [0 0 1]]\n",
      "(527, 6) (527, 3)\n",
      "(132, 6) (132, 3)\n"
     ]
    }
   ],
   "source": [
    "Y = pd.get_dummies(dataset['aspect_category']).values\n",
    "print(Y)\n",
    "X_train, X_test, Y_train, Y_test = train_test_split(X,Y, test_size = 0.2, random_state = 42)\n",
    "print(X_train.shape,Y_train.shape)\n",
    "print(X_test.shape,Y_test.shape)"
   ]
  },
  {
   "cell_type": "code",
   "execution_count": 10,
   "metadata": {},
   "outputs": [
    {
     "name": "stdout",
     "output_type": "stream",
     "text": [
      "_________________________________________________________________\n",
      "Layer (type)                 Output Shape              Param #   \n",
      "=================================================================\n",
      "embedding_3 (Embedding)      (None, 6, 128)            768000    \n",
      "_________________________________________________________________\n",
      "spatial_dropout1d_3 (Spatial (None, 6, 128)            0         \n",
      "_________________________________________________________________\n",
      "lstm_3 (LSTM)                (None, 64)                49408     \n",
      "_________________________________________________________________\n",
      "dense_3 (Dense)              (None, 3)                 195       \n",
      "=================================================================\n",
      "Total params: 817,603\n",
      "Trainable params: 817,603\n",
      "Non-trainable params: 0\n",
      "_________________________________________________________________\n",
      "None\n",
      "Train on 421 samples, validate on 106 samples\n",
      "Epoch 1/10\n",
      "421/421 [==============================] - ETA: 1s - loss: 1.1024 - acc: 0.343 - 2s 5ms/step - loss: 1.1013 - acc: 0.3373 - val_loss: 1.0988 - val_acc: 0.3302\n",
      "Epoch 2/10\n",
      "421/421 [==============================] - ETA: 0s - loss: 1.0959 - acc: 0.402 - 0s 209us/step - loss: 1.0990 - acc: 0.3800 - val_loss: 1.0966 - val_acc: 0.3302\n",
      "Epoch 3/10\n",
      "421/421 [==============================] - ETA: 0s - loss: 1.0971 - acc: 0.332 - 0s 200us/step - loss: 1.0972 - acc: 0.3373 - val_loss: 1.0947 - val_acc: 0.3302\n",
      "Epoch 4/10\n",
      "421/421 [==============================] - ETA: 0s - loss: 1.0943 - acc: 0.339 - 0s 207us/step - loss: 1.0951 - acc: 0.3705 - val_loss: 1.0928 - val_acc: 0.3208\n",
      "Epoch 5/10\n",
      "421/421 [==============================] - ETA: 0s - loss: 1.0886 - acc: 0.382 - 0s 233us/step - loss: 1.0875 - acc: 0.3990 - val_loss: 1.0908 - val_acc: 0.3208\n",
      "Epoch 6/10\n",
      "421/421 [==============================] - ETA: 0s - loss: 1.0949 - acc: 0.386 - 0s 254us/step - loss: 1.0930 - acc: 0.3872 - val_loss: 1.0888 - val_acc: 0.3302\n",
      "Epoch 7/10\n",
      "421/421 [==============================] - ETA: 0s - loss: 1.0870 - acc: 0.406 - 0s 213us/step - loss: 1.0850 - acc: 0.4204 - val_loss: 1.0868 - val_acc: 0.3774\n",
      "Epoch 8/10\n",
      "421/421 [==============================] - ETA: 0s - loss: 1.0883 - acc: 0.363 - 0s 204us/step - loss: 1.0890 - acc: 0.3729 - val_loss: 1.0848 - val_acc: 0.4340\n",
      "Epoch 9/10\n",
      "421/421 [==============================] - ETA: 0s - loss: 1.0840 - acc: 0.457 - 0s 221us/step - loss: 1.0861 - acc: 0.4157 - val_loss: 1.0826 - val_acc: 0.4717\n",
      "Epoch 10/10\n",
      "421/421 [==============================] - ETA: 0s - loss: 1.0813 - acc: 0.410 - 0s 233us/step - loss: 1.0795 - acc: 0.4228 - val_loss: 1.0803 - val_acc: 0.5000\n"
     ]
    }
   ],
   "source": [
    "epochs = 10\n",
    "emb_dim = 128\n",
    "batch_size = 256\n",
    "\n",
    "model = Sequential()\n",
    "model.add(Embedding(max_fatures, emb_dim, input_length=X.shape[1]))\n",
    "model.add(SpatialDropout1D(0.7))\n",
    "model.add(LSTM(64, dropout=0.7, recurrent_dropout=0.7))\n",
    "model.add(Dense(3, activation='softmax'))\n",
    "model.compile(optimizer='adam', loss='categorical_crossentropy', metrics=['acc'])\n",
    "print(model.summary())\n",
    "history = model.fit(X_train, Y_train, epochs=epochs, batch_size=batch_size,validation_split=0.2,callbacks=[EarlyStopping(monitor='val_loss',patience=7, min_delta=0.0001)])"
   ]
  },
  {
   "cell_type": "code",
   "execution_count": 12,
   "metadata": {},
   "outputs": [
    {
     "data": {
      "text/plain": [
       "<Figure size 432x288 with 0 Axes>"
      ]
     },
     "execution_count": 12,
     "metadata": {},
     "output_type": "execute_result"
    },
    {
     "data": {
      "image/png": "[encoded data removed]",
      "text/plain": [
       "<Figure size 432x288 with 1 Axes>"
      ]
     },
     "metadata": {
      "needs_background": "light"
     },
     "output_type": "display_data"
    },
    {
     "data": {
      "text/plain": [
       "<Figure size 432x288 with 0 Axes>"
      ]
     },
     "metadata": {},
     "output_type": "display_data"
    }
   ],
   "source": [
    "import matplotlib.pyplot as plt\n",
    "acc = history.history['acc']\n",
    "val_acc = history.history['val_acc']\n",
    "epochs = range(1, len(acc) + 1)\n",
    "\n",
    "plt.plot(epochs, acc, color = 'red', label='Training acc')\n",
    "plt.plot(epochs, val_acc, color = 'blue', label='Validation acc')\n",
    "plt.xlabel('Epochs')\n",
    "plt.ylabel('Accuracy')\n",
    "plt.legend(['Training Accuracy','Validation Accuracy'])\n",
    "\n",
    "plt.figure()"
   ]
  },
  {
   "cell_type": "code",
   "execution_count": 13,
   "metadata": {},
   "outputs": [
    {
     "name": "stdout",
     "output_type": "stream",
     "text": [
      "[[23 28  0]\n",
      " [ 0 44  0]\n",
      " [ 5 32  0]]\n",
      "Accuracy: 0.507576\n"
     ]
    },
    {
     "name": "stderr",
     "output_type": "stream",
     "text": [
      "C:\\ProgramData\\Anaconda3\\lib\\site-packages\\sklearn\\metrics\\classification.py:1143: UndefinedMetricWarning: Precision is ill-defined and being set to 0.0 in labels with no predicted samples.\n",
      "  'precision', 'predicted', average, warn_for)\n"
     ]
    },
    {
     "name": "stdout",
     "output_type": "stream",
     "text": [
      "Precision: 0.414835\n",
      "Recall: 0.483660\n"
     ]
    },
    {
     "name": "stderr",
     "output_type": "stream",
     "text": [
      "C:\\ProgramData\\Anaconda3\\lib\\site-packages\\sklearn\\metrics\\classification.py:1143: UndefinedMetricWarning: F-score is ill-defined and being set to 0.0 in labels with no predicted samples.\n",
      "  'precision', 'predicted', average, warn_for)\n"
     ]
    },
    {
     "name": "stdout",
     "output_type": "stream",
     "text": [
      "F1 score: 0.392291\n"
     ]
    }
   ],
   "source": [
    "import numpy as np \n",
    "\n",
    "from sklearn.metrics import accuracy_score\n",
    "from sklearn.metrics import precision_score\n",
    "from sklearn.metrics import recall_score\n",
    "from sklearn.metrics import f1_score\n",
    "from sklearn.metrics import confusion_matrix\n",
    "\n",
    "\n",
    "y_predict = model.predict(X_test)\n",
    "y_test_non_category = [ np.argmax(t) for t in Y_test ]\n",
    "y_predict_non_category = [ np.argmax(t) for t in y_predict ]\n",
    "\n",
    "matrix = confusion_matrix(y_test_non_category, y_predict_non_category)\n",
    "print(matrix)\n",
    "# accuracy: (tp + tn) / (p + n)\n",
    "accuracy = accuracy_score(y_test_non_category, y_predict_non_category)\n",
    "print('Accuracy: %f' % accuracy)\n",
    "# precision tp / (tp + fp)\n",
    "precision = precision_score(y_test_non_category, y_predict_non_category,average='macro')\n",
    "print('Precision: %f' % precision)\n",
    "# recall: tp / (tp + fn)\n",
    "recall = recall_score(y_test_non_category, y_predict_non_category,average='macro')\n",
    "print('Recall: %f' % recall)\n",
    "# f1: 2 tp / (2 tp + fp + fn)\n",
    "f1 = f1_score(y_test_non_category, y_predict_non_category,average='macro')\n",
    "print('F1 score: %f' % f1)"
   ]
  },
  {
   "cell_type": "code",
   "execution_count": 17,
   "metadata": {},
   "outputs": [
    {
     "name": "stdout",
     "output_type": "stream",
     "text": [
      "[[0.57680476 0.1647595  0.2584357 ]] environment\n"
     ]
    }
   ],
   "source": [
    "txt = [\"Good place to learn new technologies\"]\n",
    "seq = tokenizer.texts_to_sequences(txt)\n",
    "padded = pad_sequences(seq, maxlen=max_len)\n",
    "pred = model.predict(padded)\n",
    "labels = ['environment', 'leadeship', 'learning']\n",
    "print(pred, labels[np.argmax(pred)])"
   ]
  },
  {
   "cell_type": "code",
   "execution_count": null,
   "metadata": {},
   "outputs": [],
   "source": []
  }
 ],
 "metadata": {
  "kernelspec": {
   "display_name": "Python 3",
   "language": "python",
   "name": "python3"
  },
  "language_info": {
   "codemirror_mode": {
    "name": "ipython",
    "version": 3
   },
   "file_extension": ".py",
   "mimetype": "text/x-python",
   "name": "python",
   "nbconvert_exporter": "python",
   "pygments_lexer": "ipython3",
   "version": "3.6.7"
  }
 },
 "nbformat": 4,
 "nbformat_minor": 2
}

{
 "cells": [
  {
   "cell_type": "code",
   "execution_count": 1,
   "metadata": {},
   "outputs": [
    {
     "name": "stderr",
     "output_type": "stream",
     "text": [
      "Using TensorFlow backend.\n"
     ]
    }
   ],
   "source": [
    "import numpy as np \n",
    "import pandas as pd \n",
    "\n",
    "from sklearn.feature_extraction.text import CountVectorizer\n",
    "from keras.preprocessing.text import Tokenizer\n",
    "from keras.preprocessing.sequence import pad_sequences\n",
    "from keras.models import Sequential\n",
    "from keras.layers import Dense, Embedding, LSTM, SpatialDropout1D, Conv1D,GlobalMaxPooling1D, Dropout, Flatten\n",
    "from sklearn.model_selection import train_test_split\n",
    "from keras.utils.np_utils import to_categorical\n",
    "import re"
   ]
  },
  {
   "cell_type": "code",
   "execution_count": 2,
   "metadata": {},
   "outputs": [],
   "source": [
    "dataset = pd.read_csv('convertcsv.csv')\n",
    "data = dataset[['text','aspectCategories/aspectCategory/0/_polarity']]\n",
    "#data = dataset.rename(index=str, columns={ 0: \"text\", 6: \"sentiment\"})\n",
    "newdata = data.dropna()\n",
    "newdata.isnull().sum()\n",
    "newdata = newdata.rename(columns={'aspectCategories/aspectCategory/0/_polarity': 'sentiment'})"
   ]
  },
  {
   "cell_type": "code",
   "execution_count": 3,
   "metadata": {},
   "outputs": [
    {
     "name": "stdout",
     "output_type": "stream",
     "text": [
      "3484\n",
      "1316\n",
      "954\n",
      "334\n"
     ]
    },
    {
     "data": {
      "text/html": [
       "<div>\n",
       "<style scoped>\n",
       "    .dataframe tbody tr th:only-of-type {\n",
       "        vertical-align: middle;\n",
       "    }\n",
       "\n",
       "    .dataframe tbody tr th {\n",
       "        vertical-align: top;\n",
       "    }\n",
       "\n",
       "    .dataframe thead th {\n",
       "        text-align: right;\n",
       "    }\n",
       "</style>\n",
       "<table border=\"1\" class=\"dataframe\">\n",
       "  <thead>\n",
       "    <tr style=\"text-align: right;\">\n",
       "      <th></th>\n",
       "      <th>text</th>\n",
       "      <th>sentiment</th>\n",
       "    </tr>\n",
       "  </thead>\n",
       "  <tbody>\n",
       "    <tr>\n",
       "      <th>0</th>\n",
       "      <td>but the staff was so horrible to us.</td>\n",
       "      <td>negative</td>\n",
       "    </tr>\n",
       "    <tr>\n",
       "      <th>1</th>\n",
       "      <td>to be completely fair, the only redeeming fact...</td>\n",
       "      <td>positive</td>\n",
       "    </tr>\n",
       "    <tr>\n",
       "      <th>2</th>\n",
       "      <td>the food is uniformly exceptional, with a very...</td>\n",
       "      <td>positive</td>\n",
       "    </tr>\n",
       "    <tr>\n",
       "      <th>3</th>\n",
       "      <td>where gabriela personaly greets you and recomm...</td>\n",
       "      <td>positive</td>\n",
       "    </tr>\n",
       "    <tr>\n",
       "      <th>4</th>\n",
       "      <td>for those that go once and don't enjoy it, all...</td>\n",
       "      <td>positive</td>\n",
       "    </tr>\n",
       "  </tbody>\n",
       "</table>\n",
       "</div>"
      ],
      "text/plain": [
       "                                                text sentiment\n",
       "0               but the staff was so horrible to us.  negative\n",
       "1  to be completely fair, the only redeeming fact...  positive\n",
       "2  the food is uniformly exceptional, with a very...  positive\n",
       "3  where gabriela personaly greets you and recomm...  positive\n",
       "4  for those that go once and don't enjoy it, all...  positive"
      ]
     },
     "execution_count": 3,
     "metadata": {},
     "output_type": "execute_result"
    }
   ],
   "source": [
    "newdata['text'] = newdata['text'].apply(lambda x: x.lower())\n",
    "print(newdata[ newdata['sentiment'] == 'positive'].size)\n",
    "print(newdata[ newdata['sentiment'] == 'negative'].size)\n",
    "print(newdata[ newdata['sentiment'] == 'neutral'].size)\n",
    "print(newdata[ newdata['sentiment'] == 'conflict'].size)\n",
    "newdata = newdata[newdata.sentiment != \"conflict\"]\n",
    "newdata = newdata[newdata.sentiment != \"neutral\"]\n",
    "newdata.head(5)"
   ]
  },
  {
   "cell_type": "code",
   "execution_count": 4,
   "metadata": {},
   "outputs": [
    {
     "name": "stdout",
     "output_type": "stream",
     "text": [
      "2716\n",
      "1400\n",
      "1316\n"
     ]
    }
   ],
   "source": [
    "#Make number of classes balanced \n",
    "num_of_categories = 700\n",
    "shuffled = newdata.reindex(np.random.permutation(newdata.index))\n",
    "po = shuffled[shuffled['sentiment'] == 'positive'][:num_of_categories]\n",
    "ng = shuffled[shuffled['sentiment'] == 'negative'][:num_of_categories]\n",
    "\n",
    "concated = pd.concat([po,ng], ignore_index=True)\n",
    "#Shuffle the dataset\n",
    "concated = concated.reindex(np.random.permutation(concated.index))\n",
    "print(concated.size)\n",
    "\n",
    "print(concated[ concated['sentiment'] == 'positive'].size)\n",
    "print(concated[ concated['sentiment'] == 'negative'].size)\n"
   ]
  },
  {
   "cell_type": "code",
   "execution_count": 5,
   "metadata": {},
   "outputs": [
    {
     "data": {
      "text/html": [
       "<div>\n",
       "<style scoped>\n",
       "    .dataframe tbody tr th:only-of-type {\n",
       "        vertical-align: middle;\n",
       "    }\n",
       "\n",
       "    .dataframe tbody tr th {\n",
       "        vertical-align: top;\n",
       "    }\n",
       "\n",
       "    .dataframe thead th {\n",
       "        text-align: right;\n",
       "    }\n",
       "</style>\n",
       "<table border=\"1\" class=\"dataframe\">\n",
       "  <thead>\n",
       "    <tr style=\"text-align: right;\">\n",
       "      <th></th>\n",
       "      <th>text</th>\n",
       "      <th>sentiment</th>\n",
       "      <th>sentiment_terms</th>\n",
       "    </tr>\n",
       "  </thead>\n",
       "  <tbody>\n",
       "    <tr>\n",
       "      <th>1023</th>\n",
       "      <td>the $300 bill was a bit steep, but the experie...</td>\n",
       "      <td>negative</td>\n",
       "      <td>steep great</td>\n",
       "    </tr>\n",
       "    <tr>\n",
       "      <th>662</th>\n",
       "      <td>i got enough reasons to keep coming back!!!</td>\n",
       "      <td>positive</td>\n",
       "      <td>get come</td>\n",
       "    </tr>\n",
       "    <tr>\n",
       "      <th>404</th>\n",
       "      <td>this place is worth going even if only for the...</td>\n",
       "      <td>positive</td>\n",
       "      <td>worth go</td>\n",
       "    </tr>\n",
       "    <tr>\n",
       "      <th>523</th>\n",
       "      <td>we will be back.</td>\n",
       "      <td>positive</td>\n",
       "      <td></td>\n",
       "    </tr>\n",
       "    <tr>\n",
       "      <th>723</th>\n",
       "      <td>dinner took almost 4 hours without any lag time.</td>\n",
       "      <td>negative</td>\n",
       "      <td>take</td>\n",
       "    </tr>\n",
       "    <tr>\n",
       "      <th>925</th>\n",
       "      <td>when we notified him that he didn't mention th...</td>\n",
       "      <td>negative</td>\n",
       "      <td>notify mention apologize let know good</td>\n",
       "    </tr>\n",
       "    <tr>\n",
       "      <th>1246</th>\n",
       "      <td>the decor is really blah, and not at all hip o...</td>\n",
       "      <td>negative</td>\n",
       "      <td>blah</td>\n",
       "    </tr>\n",
       "    <tr>\n",
       "      <th>136</th>\n",
       "      <td>we were very surprised by how good the food wa...</td>\n",
       "      <td>positive</td>\n",
       "      <td>surprised good sunday</td>\n",
       "    </tr>\n",
       "    <tr>\n",
       "      <th>5</th>\n",
       "      <td>the service is excellent, the decor is great, ...</td>\n",
       "      <td>positive</td>\n",
       "      <td>excellent great delicious come large</td>\n",
       "    </tr>\n",
       "    <tr>\n",
       "      <th>298</th>\n",
       "      <td>solid wine list, knowledgeable staff, friendly...</td>\n",
       "      <td>positive</td>\n",
       "      <td>solid knowledgeable friendly adventurous chang...</td>\n",
       "    </tr>\n",
       "  </tbody>\n",
       "</table>\n",
       "</div>"
      ],
      "text/plain": [
       "                                                   text sentiment  \\\n",
       "1023  the $300 bill was a bit steep, but the experie...  negative   \n",
       "662         i got enough reasons to keep coming back!!!  positive   \n",
       "404   this place is worth going even if only for the...  positive   \n",
       "523                                    we will be back.  positive   \n",
       "723    dinner took almost 4 hours without any lag time.  negative   \n",
       "925   when we notified him that he didn't mention th...  negative   \n",
       "1246  the decor is really blah, and not at all hip o...  negative   \n",
       "136   we were very surprised by how good the food wa...  positive   \n",
       "5     the service is excellent, the decor is great, ...  positive   \n",
       "298   solid wine list, knowledgeable staff, friendly...  positive   \n",
       "\n",
       "                                        sentiment_terms  \n",
       "1023                                        steep great  \n",
       "662                                            get come  \n",
       "404                                            worth go  \n",
       "523                                                      \n",
       "723                                                take  \n",
       "925              notify mention apologize let know good  \n",
       "1246                                               blah  \n",
       "136                               surprised good sunday  \n",
       "5                  excellent great delicious come large  \n",
       "298   solid knowledgeable friendly adventurous chang...  "
      ]
     },
     "execution_count": 5,
     "metadata": {},
     "output_type": "execute_result"
    }
   ],
   "source": [
    "import spacy\n",
    "nlp = spacy.load('en')\n",
    "\n",
    "sentiment_terms = []\n",
    "for review in nlp.pipe(concated['text']):\n",
    "        if review.is_parsed:\n",
    "            sentiment_terms.append(' '.join([token.lemma_ for token in review if (not token.is_stop and not token.is_punct and (token.pos_ == \"ADJ\" or token.pos_ == \"VERB\"))]))\n",
    "        else:\n",
    "            sentiment_terms.append('')  \n",
    "concated['sentiment_terms'] = sentiment_terms\n",
    "concated.head(10)"
   ]
  },
  {
   "cell_type": "code",
   "execution_count": 6,
   "metadata": {},
   "outputs": [],
   "source": [
    "max_fatures = 6000\n",
    "MAX_SEQUENCE_LENGTH = 30\n",
    "tokenizer = Tokenizer(num_words=max_fatures, split=' ')\n",
    "tokenizer.fit_on_texts(concated['sentiment_terms'].values)\n",
    "X = tokenizer.texts_to_sequences(concated['sentiment_terms'].values)\n",
    "X = pad_sequences(X, maxlen=MAX_SEQUENCE_LENGTH)\n",
    "\n",
    "import pickle\n",
    "\n",
    "# saving\n",
    "with open('review_token.pickle', 'wb') as handle:\n",
    "    pickle.dump(tokenizer, handle, protocol=pickle.HIGHEST_PROTOCOL)"
   ]
  },
  {
   "cell_type": "code",
   "execution_count": 7,
   "metadata": {},
   "outputs": [
    {
     "name": "stdout",
     "output_type": "stream",
     "text": [
      "_________________________________________________________________\n",
      "Layer (type)                 Output Shape              Param #   \n",
      "=================================================================\n",
      "embedding_1 (Embedding)      (None, 30, 128)           768000    \n",
      "_________________________________________________________________\n",
      "conv1d_1 (Conv1D)            (None, 26, 128)           82048     \n",
      "_________________________________________________________________\n",
      "dropout_1 (Dropout)          (None, 26, 128)           0         \n",
      "_________________________________________________________________\n",
      "global_max_pooling1d_1 (Glob (None, 128)               0         \n",
      "_________________________________________________________________\n",
      "dense_1 (Dense)              (None, 10)                1290      \n",
      "_________________________________________________________________\n",
      "dropout_2 (Dropout)          (None, 10)                0         \n",
      "_________________________________________________________________\n",
      "dense_2 (Dense)              (None, 2)                 22        \n",
      "=================================================================\n",
      "Total params: 851,360\n",
      "Trainable params: 851,360\n",
      "Non-trainable params: 0\n",
      "_________________________________________________________________\n"
     ]
    }
   ],
   "source": [
    "embedding_dim = 128\n",
    "model = Sequential()\n",
    "model.add(Embedding(max_fatures, embedding_dim, input_length = X.shape[1]))\n",
    "model.add(Conv1D(128, 5, activation='relu'))\n",
    "model.add(Dropout(0.2))\n",
    "model.add(GlobalMaxPooling1D())\n",
    "model.add(Dense(10, activation='relu'))\n",
    "model.add(Dropout(0.2))\n",
    "model.add(Dense(2, activation='sigmoid'))\n",
    "model.compile(optimizer='adam',\n",
    "              loss='binary_crossentropy',\n",
    "              metrics=['accuracy'])\n",
    "model.summary()"
   ]
  },
  {
   "cell_type": "code",
   "execution_count": 8,
   "metadata": {},
   "outputs": [
    {
     "name": "stdout",
     "output_type": "stream",
     "text": [
      "[[1 0]\n",
      " [0 1]\n",
      " [0 1]\n",
      " ...\n",
      " [0 1]\n",
      " [1 0]\n",
      " [1 0]]\n",
      "(1086, 30) (1086, 2)\n",
      "(272, 30) (272, 2)\n"
     ]
    }
   ],
   "source": [
    "Y = pd.get_dummies(concated['sentiment']).values\n",
    "print(Y)\n",
    "X_train, X_test, Y_train, Y_test = train_test_split(X,Y, test_size = 0.2, random_state = 42)\n",
    "print(X_train.shape,Y_train.shape)\n",
    "print(X_test.shape,Y_test.shape)"
   ]
  },
  {
   "cell_type": "code",
   "execution_count": 9,
   "metadata": {},
   "outputs": [
    {
     "name": "stdout",
     "output_type": "stream",
     "text": [
      "Train on 1086 samples, validate on 272 samples\n",
      "Epoch 1/10\n",
      " - 2s - loss: 0.6943 - acc: 0.4959 - val_loss: 0.6930 - val_acc: 0.5257\n",
      "Epoch 2/10\n",
      " - 1s - loss: 0.6904 - acc: 0.5470 - val_loss: 0.6897 - val_acc: 0.5294\n",
      "Epoch 3/10\n",
      " - 1s - loss: 0.6571 - acc: 0.6137 - val_loss: 0.6516 - val_acc: 0.7096\n",
      "Epoch 4/10\n",
      " - 1s - loss: 0.5237 - acc: 0.7970 - val_loss: 0.5401 - val_acc: 0.7224\n",
      "Epoch 5/10\n",
      " - 1s - loss: 0.3559 - acc: 0.8656 - val_loss: 0.5328 - val_acc: 0.7574\n",
      "Epoch 6/10\n",
      " - 1s - loss: 0.2807 - acc: 0.9056 - val_loss: 0.5631 - val_acc: 0.7849\n",
      "Epoch 7/10\n",
      " - 1s - loss: 0.2348 - acc: 0.9084 - val_loss: 0.5843 - val_acc: 0.7408\n",
      "Epoch 8/10\n",
      " - 1s - loss: 0.2068 - acc: 0.9088 - val_loss: 0.6532 - val_acc: 0.7757\n",
      "Epoch 9/10\n",
      " - 1s - loss: 0.1882 - acc: 0.9245 - val_loss: 0.6952 - val_acc: 0.7831\n",
      "Epoch 10/10\n",
      " - 1s - loss: 0.1555 - acc: 0.9438 - val_loss: 0.7583 - val_acc: 0.7812\n"
     ]
    }
   ],
   "source": [
    "batch_size = 32\n",
    "sentiment_model = model.fit(X_train, Y_train, validation_data=(X_test, Y_test),epochs = 10, batch_size=batch_size, verbose = 2)"
   ]
  },
  {
   "cell_type": "code",
   "execution_count": 11,
   "metadata": {},
   "outputs": [
    {
     "data": {
      "text/plain": [
       "<Figure size 432x288 with 0 Axes>"
      ]
     },
     "execution_count": 11,
     "metadata": {},
     "output_type": "execute_result"
    },
    {
     "data": {
      "image/png": "[encoded data removed]",
      "text/plain": [
       "<Figure size 432x288 with 1 Axes>"
      ]
     },
     "metadata": {
      "needs_background": "light"
     },
     "output_type": "display_data"
    },
    {
     "data": {
      "text/plain": [
       "<Figure size 432x288 with 0 Axes>"
      ]
     },
     "metadata": {},
     "output_type": "display_data"
    }
   ],
   "source": [
    "import matplotlib.pyplot as plt\n",
    "acc = sentiment_model.history['acc']\n",
    "val_acc = sentiment_model.history['val_acc']\n",
    "epochs = range(1, len(acc) + 1)\n",
    "\n",
    "plt.plot(epochs, acc, color = 'red', label='Training acc')\n",
    "plt.plot(epochs, val_acc, color = 'blue', label='Validation acc')\n",
    "plt.xlabel('Epochs')\n",
    "plt.ylabel('Accuracy')\n",
    "plt.legend(['Training Accuracy','Validation Accuracy'])\n",
    "\n",
    "plt.figure()"
   ]
  },
  {
   "cell_type": "code",
   "execution_count": 28,
   "metadata": {},
   "outputs": [
    {
     "name": "stdout",
     "output_type": "stream",
     "text": [
      "[[101  28]\n",
      " [ 33 110]]\n",
      "Accuracy: 0.775735\n",
      "Precision: 0.797101\n",
      "Recall: 0.769231\n",
      "F1 score: 0.782918\n"
     ]
    }
   ],
   "source": [
    "from sklearn.metrics import accuracy_score\n",
    "from sklearn.metrics import precision_score\n",
    "from sklearn.metrics import recall_score\n",
    "from sklearn.metrics import f1_score\n",
    "from sklearn.metrics import confusion_matrix\n",
    "\n",
    "y_predict = model.predict(X_test)\n",
    "y_test_non_category = [ np.argmax(t) for t in Y_test ]\n",
    "y_predict_non_category = [ np.argmax(t) for t in y_predict ]\n",
    "\n",
    "matrix = confusion_matrix(y_test_non_category, y_predict_non_category)\n",
    "print(matrix)\n",
    "#print(yhat_classes)\n",
    "#yhat_classes = yhat_classes[:, 0]\n",
    "#print(yhat_classes)\n",
    "# accuracy: (tp + tn) / (p + n)\n",
    "accuracy = accuracy_score(y_test_non_category, y_predict_non_category)\n",
    "print('Accuracy: %f' % accuracy)\n",
    "# precision tp / (tp + fp)\n",
    "precision = precision_score(y_test_non_category, y_predict_non_category)\n",
    "print('Precision: %f' % precision)\n",
    "# recall: tp / (tp + fn)\n",
    "recall = recall_score(y_test_non_category, y_predict_non_category)\n",
    "print('Recall: %f' % recall)\n",
    "# f1: 2 tp / (2 tp + fp + fn)\n",
    "f1 = f1_score(y_test_non_category, y_predict_non_category)\n",
    "print('F1 score: %f' % f1)"
   ]
  },
  {
   "cell_type": "code",
   "execution_count": 29,
   "metadata": {},
   "outputs": [
    {
     "name": "stdout",
     "output_type": "stream",
     "text": [
      "['lack']\n",
      "[0.9809325  0.02918736]\n",
      "0.9809325\n",
      "negative\n"
     ]
    }
   ],
   "source": [
    "new_review = nlp(\"Lacks diversity in workforce\")\n",
    "\n",
    "new_review_sentiment_terms = []\n",
    "new_review_sentiment_terms.append(' '.join([token.lemma_ for token in new_review if (not token.is_stop and not token.is_punct and (token.pos_ == \"ADJ\" or token.pos_ == \"VERB\"))]))\n",
    "\n",
    "print(new_review_sentiment_terms)\n",
    "#vectorizing the tweet by the pre-fitted tokenizer instance\n",
    "review = tokenizer.texts_to_sequences(new_review_sentiment_terms)\n",
    "#padding the tweet to have exactly the same shape as `embedding_2` input\n",
    "review = pad_sequences(review, maxlen=30, dtype='int32', value=0)\n",
    "#print(review)\n",
    "sentiment = model.predict(review,batch_size=1,verbose = 2)[0]\n",
    "print(sentiment)\n",
    "score = np.max(sentiment)\n",
    "print(score)\n",
    "position = np.argmax(sentiment)\n",
    "if position == 0 and score > 0.55:\n",
    "    print('negative')\n",
    "elif position == 1 and score > 0.55:\n",
    "    print('positive')\n",
    "elif position == 0 or position == 1 and score >= 0.45 and score <=0.55:\n",
    "    print('neutral')"
   ]
  },
  {
   "cell_type": "code",
   "execution_count": 111,
   "metadata": {},
   "outputs": [],
   "source": [
    "from keras.models import load_model\n",
    "\n",
    "model.save('sentiment_model_new_cnn_spacy.h5')"
   ]
  },
  {
   "cell_type": "code",
   "execution_count": null,
   "metadata": {},
   "outputs": [],
   "source": []
  }
 ],
 "metadata": {
  "kernelspec": {
   "display_name": "Python 3",
   "language": "python",
   "name": "python3"
  },
  "language_info": {
   "codemirror_mode": {
    "name": "ipython",
    "version": 3
   },
   "file_extension": ".py",
   "mimetype": "text/x-python",
   "name": "python",
   "nbconvert_exporter": "python",
   "pygments_lexer": "ipython3",
   "version": "3.6.7"
  }
 },
 "nbformat": 4,
 "nbformat_minor": 2
}
